{
 "cells": [
  {
   "cell_type": "markdown",
   "metadata": {
    "collapsed": false
   },
   "source": [
    "\n",
    "# MMF1921/MIE377 - Backtesting Template\n",
    "\n",
    "The purpose of this program is to provide a template with which to develop Project 2. The project requires you to test different models  (and/or different model combinations) to create an asset management algorithm.\n",
    "\n",
    "This template will be used by the instructor and TA to assess your trading algorithm using different datasets.\n",
    "\n",
    "# PLEASE DO NOT MODIFY THIS TEMPLATE (for Project submission purposes)\n",
    "\n",
    "# 1. Read input files"
   ]
  },
  {
   "cell_type": "code",
   "execution_count": 1,
   "metadata": {
    "ExecuteTime": {
     "end_time": "2024-03-20T20:29:36.438601400Z",
     "start_time": "2024-03-20T20:29:36.377918500Z"
    },
    "collapsed": false
   },
   "outputs": [],
   "source": [
    "import time\n",
    "import math\n",
    "from scipy.stats import gmean\n",
    "import matplotlib.pyplot as plt\n",
    "from services.project_function import *\n",
    "import pandas as pd\n",
    "\n",
    "adjClose = pd.read_csv(\"MIE377_AssetPrices_3.csv\", index_col=0)\n",
    "factorRet = pd.read_csv(\"MIE377_FactorReturns_3.csv\", index_col=0)"
   ]
  },
  {
   "cell_type": "code",
   "execution_count": 2,
   "metadata": {
    "ExecuteTime": {
     "end_time": "2024-03-20T20:29:36.440587500Z",
     "start_time": "2024-03-20T20:29:36.396917700Z"
    },
    "collapsed": false
   },
   "outputs": [],
   "source": [
    "adjClose.index = pd.to_datetime(adjClose.index)\n",
    "factorRet.index = pd.to_datetime(factorRet.index)"
   ]
  },
  {
   "cell_type": "code",
   "execution_count": 3,
   "metadata": {
    "ExecuteTime": {
     "end_time": "2024-03-20T20:29:36.470358Z",
     "start_time": "2024-03-20T20:29:36.411919Z"
    },
    "collapsed": false
   },
   "outputs": [],
   "source": [
    "# Initial budget to invest ($100,000)\n",
    "initialVal = 100000\n",
    "\n",
    "# Length of investment period (in months)\n",
    "investPeriod = 6\n",
    "\n",
    "# divide the factor returns by  100\n",
    "factorRet = factorRet/100\n",
    "\n",
    "#rf and factor returns\n",
    "riskFree = factorRet['RF']\n",
    "factorRet = factorRet.loc[:,factorRet.columns != 'RF'];\n"
   ]
  },
  {
   "cell_type": "code",
   "execution_count": 4,
   "metadata": {
    "ExecuteTime": {
     "end_time": "2024-03-20T20:29:36.473235900Z",
     "start_time": "2024-03-20T20:29:36.426396Z"
    },
    "collapsed": false
   },
   "outputs": [],
   "source": [
    "#Identify the tickers and the dates\n",
    "tickers = adjClose.columns\n",
    "dates   = factorRet.index"
   ]
  },
  {
   "cell_type": "code",
   "execution_count": 5,
   "metadata": {
    "ExecuteTime": {
     "end_time": "2024-03-20T20:29:36.474236800Z",
     "start_time": "2024-03-20T20:29:36.442586800Z"
    },
    "collapsed": false
   },
   "outputs": [],
   "source": [
    "# Calculate the stocks monthly excess returns\n",
    "# pct change and drop the first null observation\n",
    "returns = adjClose.pct_change(1).iloc[1:, :]\n",
    "returns = returns  - np.diag(riskFree.values) @ np.ones_like(returns.values)\n",
    "# Align the price table to the asset and factor returns tables by discarding the first observation.\n",
    "adjClose = adjClose.iloc[1:,:]"
   ]
  },
  {
   "cell_type": "code",
   "execution_count": 6,
   "metadata": {
    "ExecuteTime": {
     "end_time": "2024-03-20T20:29:36.487236200Z",
     "start_time": "2024-03-20T20:29:36.458587500Z"
    },
    "collapsed": false
   },
   "outputs": [],
   "source": [
    "assert adjClose.index[0] == returns.index[0]\n",
    "assert adjClose.index[0] == factorRet.index[0]"
   ]
  },
  {
   "cell_type": "code",
   "execution_count": 7,
   "metadata": {},
   "outputs": [],
   "source": [
    "adjClose = pd.read_csv(\"MIE377_AssetPrices_2.csv\", index_col=0)\n",
    "factorRet = pd.read_csv(\"MIE377_FactorReturns_2.csv\", index_col=0)\n",
    "\n",
    "adjClose.index = pd.to_datetime(adjClose.index)\n",
    "factorRet.index = pd.to_datetime(factorRet.index)\n",
    "\n",
    "# Initial budget to invest ($100,000)\n",
    "initialVal = 100000\n",
    "\n",
    "# Length of investment period (in months)\n",
    "investPeriod = 6\n",
    "\n",
    "# divide the factor returns by  100\n",
    "factorRet = factorRet/100\n",
    "\n",
    "#rf and factor returns\n",
    "riskFree = factorRet['RF']\n",
    "factorRet = factorRet.loc[:,factorRet.columns != 'RF'];\n",
    "\n",
    "#Identify the tickers and the dates\n",
    "tickers = adjClose.columns\n",
    "dates   = factorRet.index\n",
    "\n",
    "# Calculate the stocks monthly excess returns\n",
    "# pct change and drop the first null observation\n",
    "returns = adjClose.pct_change(1).iloc[1:, :]\n",
    "returns = returns  - np.diag(riskFree.values) @ np.ones_like(returns.values)\n",
    "# Align the price table to the asset and factor returns tables by discarding the first observation.\n",
    "adjClose = adjClose.iloc[1:,:]\n",
    "\n",
    "assert adjClose.index[0] == returns.index[0]\n",
    "assert adjClose.index[0] == factorRet.index[0]\n"
   ]
  },
  {
   "cell_type": "markdown",
   "metadata": {
    "collapsed": false
   },
   "source": [
    "# 3. Results"
   ]
  },
  {
   "cell_type": "code",
   "execution_count": 8,
   "metadata": {},
   "outputs": [],
   "source": [
    "def run_strategy(num_periods,lambda_RP, lamda_S, z, model, cal, file_1, file_2):\n",
    "\n",
    "    adjClose = pd.read_csv(file_1, index_col=0)\n",
    "    factorRet = pd.read_csv(file_2, index_col=0)\n",
    "\n",
    "    adjClose.index = pd.to_datetime(adjClose.index)\n",
    "    factorRet.index = pd.to_datetime(factorRet.index)\n",
    "\n",
    "    # Initial budget to invest ($100,000)\n",
    "    initialVal = 100000\n",
    "\n",
    "    # Length of investment period (in months)\n",
    "    investPeriod = 6\n",
    "\n",
    "    # divide the factor returns by  100\n",
    "    factorRet = factorRet/100\n",
    "\n",
    "    #rf and factor returns\n",
    "    riskFree = factorRet['RF']\n",
    "    factorRet = factorRet.loc[:,factorRet.columns != 'RF'];\n",
    "\n",
    "    #Identify the tickers and the dates\n",
    "    tickers = adjClose.columns\n",
    "    dates   = factorRet.index\n",
    "\n",
    "    # Calculate the stocks monthly excess returns\n",
    "    # pct change and drop the first null observation\n",
    "    returns = adjClose.pct_change(1).iloc[1:, :]\n",
    "    returns = returns  - np.diag(riskFree.values) @ np.ones_like(returns.values)\n",
    "    # Align the price table to the asset and factor returns tables by discarding the first observation.\n",
    "    adjClose = adjClose.iloc[1:,:]\n",
    "\n",
    "    assert adjClose.index[0] == returns.index[0]\n",
    "    assert adjClose.index[0] == factorRet.index[0]\n",
    "\n",
    "\n",
    "\n",
    "    testStart = returns.index[0] + pd.offsets.DateOffset(years=cal)\n",
    "    investPeriod = 5\n",
    "    testEnd = testStart + pd.offsets.DateOffset(months=investPeriod) - pd.offsets.DateOffset(days=1)\n",
    "    calEnd = testStart - pd.offsets.DateOffset(days=1)\n",
    "\n",
    "    NoPeriods = math.ceil((returns.index[-1].to_period('M') - testStart.to_period('M')).n / investPeriod)\n",
    "    n = len(tickers)\n",
    "\n",
    "    x = np.zeros([n, NoPeriods])\n",
    "    x0 = np.zeros([n, NoPeriods])\n",
    "    currentVal = np.zeros([NoPeriods, 1])\n",
    "    turnover = np.zeros([NoPeriods, 1])\n",
    "    toDay = 0\n",
    "    portfValue = []\n",
    "\n",
    "    for t in range(NoPeriods):\n",
    "        periodReturns = returns[returns.index <= calEnd]\n",
    "        periodFactRet = factorRet[factorRet.index <= calEnd]\n",
    "\n",
    "        current_price_idx = (calEnd - pd.offsets.DateOffset(months=1) <= adjClose.index)&(adjClose.index <= calEnd)\n",
    "        currentPrices = adjClose[current_price_idx]\n",
    "\n",
    "        periodPrices_idx = (testStart <= adjClose.index)&(adjClose.index <= testEnd)\n",
    "        periodPrices = adjClose[periodPrices_idx]\n",
    "\n",
    "        if len(periodPrices) != investPeriod or len(currentPrices) != 1:\n",
    "            break  # Skip this period if data is missing\n",
    "\n",
    "        if t == 0:\n",
    "            currentVal[0] = initialVal\n",
    "        else:\n",
    "            currentVal[t] = currentPrices @ NoShares.values.T\n",
    "            x0[:,t] = currentPrices.values * NoShares.values / currentVal[t]\n",
    "\n",
    "        x[:,t] = grid_search_function(periodReturns, periodFactRet, num_periods,lambda_RP, lamda_S, z, model)\n",
    "\n",
    "        if t > 0:\n",
    "            turnover[t] = np.sum(np.abs(x[:,t] - x0[:,t]))\n",
    "\n",
    "        NoShares = x[:,t] * currentVal[t] / currentPrices\n",
    "\n",
    "        fromDay = toDay\n",
    "        toDay = toDay + len(periodPrices)\n",
    "\n",
    "        portfValue.append(periodPrices @ NoShares.values.T)\n",
    "\n",
    "        testStart = testStart + pd.offsets.DateOffset(months=investPeriod)\n",
    "        testEnd = testStart + pd.offsets.DateOffset(months=investPeriod) - pd.offsets.DateOffset(days=1)\n",
    "        calEnd = testStart - pd.offsets.DateOffset(days=1)\n",
    "\n",
    "    if len(portfValue) == 0:\n",
    "        return -np.inf, np.nan  # Invalid run\n",
    "\n",
    "    portfValue = pd.concat(portfValue, axis=0)\n",
    "    portfRets = portfValue.pct_change(1).iloc[1:,:]\n",
    "    portfExRets = portfRets.subtract(riskFree[(riskFree.index >= portfRets.index[0]) & (riskFree.index <= portfRets.index[-1])], axis=0)\n",
    "\n",
    "    SR = ((portfExRets + 1).apply(gmean, axis=0) - 1) / portfExRets.std()\n",
    "    avgTurnover = np.mean(turnover[1:])\n",
    "\n",
    "    return SR[0], avgTurnover\n"
   ]
  },
  {
   "cell_type": "code",
   "execution_count": 14,
   "metadata": {},
   "outputs": [
    {
     "name": "stdout",
     "output_type": "stream",
     "text": [
      "\n",
      "Testing model 0, lambda_RP=0.75, lambda_S=N/A, z=N/A, num_periods=30, cal=3\n",
      "--> SR = 0.2105, Turnover = 0.1099\n",
      "\n",
      "Testing model 0, lambda_RP=0.75, lambda_S=N/A, z=N/A, num_periods=30, cal=5\n",
      "--> SR = 0.1743, Turnover = 0.1112\n",
      "\n",
      "Testing model 0, lambda_RP=0.75, lambda_S=N/A, z=N/A, num_periods=30, cal=8\n",
      "--> SR = 0.3136, Turnover = 0.0897\n",
      "\n",
      "Testing model 0, lambda_RP=0.75, lambda_S=N/A, z=N/A, num_periods=30, cal=3\n",
      "--> SR = 0.2469, Turnover = 0.0724\n",
      "\n",
      "Testing model 0, lambda_RP=0.75, lambda_S=N/A, z=N/A, num_periods=30, cal=5\n",
      "--> SR = 0.1964, Turnover = 0.0799\n",
      "\n",
      "Testing model 0, lambda_RP=0.75, lambda_S=N/A, z=N/A, num_periods=30, cal=8\n",
      "--> SR = 0.1647, Turnover = 0.0693\n",
      "\n",
      "Testing model 0, lambda_RP=0.75, lambda_S=N/A, z=N/A, num_periods=36, cal=3\n",
      "--> SR = 0.2121, Turnover = 0.1083\n",
      "\n",
      "Testing model 0, lambda_RP=0.75, lambda_S=N/A, z=N/A, num_periods=36, cal=5\n",
      "--> SR = 0.1759, Turnover = 0.1076\n",
      "\n",
      "Testing model 0, lambda_RP=0.75, lambda_S=N/A, z=N/A, num_periods=36, cal=8\n",
      "--> SR = 0.3163, Turnover = 0.0896\n",
      "\n",
      "Testing model 0, lambda_RP=0.75, lambda_S=N/A, z=N/A, num_periods=36, cal=3\n",
      "--> SR = 0.2469, Turnover = 0.0724\n",
      "\n",
      "Testing model 0, lambda_RP=0.75, lambda_S=N/A, z=N/A, num_periods=36, cal=5\n",
      "--> SR = 0.1965, Turnover = 0.0801\n",
      "\n",
      "Testing model 0, lambda_RP=0.75, lambda_S=N/A, z=N/A, num_periods=36, cal=8\n",
      "--> SR = 0.1646, Turnover = 0.0693\n",
      "\n",
      "Testing model 1, lambda_RP=N/A, lambda_S=8, z=N/A, num_periods=30, cal=3\n",
      "--> SR = 0.2398, Turnover = 0.3736\n",
      "\n",
      "Testing model 1, lambda_RP=N/A, lambda_S=8, z=N/A, num_periods=30, cal=5\n",
      "--> SR = 0.1797, Turnover = 0.3896\n",
      "\n",
      "Testing model 1, lambda_RP=N/A, lambda_S=8, z=N/A, num_periods=30, cal=8\n",
      "--> SR = 0.3076, Turnover = 0.3433\n",
      "\n",
      "Testing model 1, lambda_RP=N/A, lambda_S=8, z=N/A, num_periods=30, cal=3\n",
      "--> SR = 0.2275, Turnover = 0.2967\n",
      "\n",
      "Testing model 1, lambda_RP=N/A, lambda_S=8, z=N/A, num_periods=30, cal=5\n",
      "--> SR = 0.1503, Turnover = 0.3828\n",
      "\n",
      "Testing model 1, lambda_RP=N/A, lambda_S=8, z=N/A, num_periods=30, cal=8\n",
      "--> SR = 0.1118, Turnover = 0.3778\n",
      "\n",
      "Testing model 1, lambda_RP=N/A, lambda_S=8, z=N/A, num_periods=36, cal=3\n",
      "--> SR = 0.2417, Turnover = 0.2959\n",
      "\n",
      "Testing model 1, lambda_RP=N/A, lambda_S=8, z=N/A, num_periods=36, cal=5\n",
      "--> SR = 0.1884, Turnover = 0.3142\n",
      "\n",
      "Testing model 1, lambda_RP=N/A, lambda_S=8, z=N/A, num_periods=36, cal=8\n",
      "--> SR = 0.3564, Turnover = 0.2533\n",
      "\n",
      "Testing model 1, lambda_RP=N/A, lambda_S=8, z=N/A, num_periods=36, cal=3\n",
      "--> SR = 0.2173, Turnover = 0.2816\n",
      "\n",
      "Testing model 1, lambda_RP=N/A, lambda_S=8, z=N/A, num_periods=36, cal=5\n"
     ]
    },
    {
     "name": "stderr",
     "output_type": "stream",
     "text": [
      "/opt/anaconda3/envs/mie377/lib/python3.10/site-packages/cvxpy/problems/problem.py:1407: UserWarning: Solution may be inaccurate. Try another solver, adjusting the solver settings, or solve with verbose=True for more information.\n",
      "  warnings.warn(\n"
     ]
    },
    {
     "name": "stdout",
     "output_type": "stream",
     "text": [
      "--> SR = 0.1415, Turnover = 0.3394\n",
      "\n",
      "Testing model 1, lambda_RP=N/A, lambda_S=8, z=N/A, num_periods=36, cal=8\n",
      "--> SR = 0.1059, Turnover = 0.3798\n",
      "\n",
      "Testing model 1, lambda_RP=N/A, lambda_S=12, z=N/A, num_periods=30, cal=3\n",
      "--> SR = 0.2391, Turnover = 0.3749\n",
      "\n",
      "Testing model 1, lambda_RP=N/A, lambda_S=12, z=N/A, num_periods=30, cal=5\n",
      "--> SR = 0.1787, Turnover = 0.3927\n",
      "\n",
      "Testing model 1, lambda_RP=N/A, lambda_S=12, z=N/A, num_periods=30, cal=8\n",
      "--> SR = 0.3061, Turnover = 0.3453\n",
      "\n",
      "Testing model 1, lambda_RP=N/A, lambda_S=12, z=N/A, num_periods=30, cal=3\n",
      "--> SR = 0.2268, Turnover = 0.2960\n",
      "\n",
      "Testing model 1, lambda_RP=N/A, lambda_S=12, z=N/A, num_periods=30, cal=5\n",
      "--> SR = 0.1499, Turnover = 0.3842\n",
      "\n",
      "Testing model 1, lambda_RP=N/A, lambda_S=12, z=N/A, num_periods=30, cal=8\n",
      "--> SR = 0.1122, Turnover = 0.3772\n",
      "\n",
      "Testing model 1, lambda_RP=N/A, lambda_S=12, z=N/A, num_periods=36, cal=3\n",
      "--> SR = 0.2420, Turnover = 0.2976\n",
      "\n",
      "Testing model 1, lambda_RP=N/A, lambda_S=12, z=N/A, num_periods=36, cal=5\n",
      "--> SR = 0.1888, Turnover = 0.3152\n",
      "\n",
      "Testing model 1, lambda_RP=N/A, lambda_S=12, z=N/A, num_periods=36, cal=8\n",
      "--> SR = 0.3566, Turnover = 0.2544\n",
      "\n",
      "Testing model 1, lambda_RP=N/A, lambda_S=12, z=N/A, num_periods=36, cal=3\n",
      "--> SR = 0.2168, Turnover = 0.2817\n",
      "\n",
      "Testing model 1, lambda_RP=N/A, lambda_S=12, z=N/A, num_periods=36, cal=5\n",
      "--> SR = 0.1413, Turnover = 0.3408\n",
      "\n",
      "Testing model 1, lambda_RP=N/A, lambda_S=12, z=N/A, num_periods=36, cal=8\n",
      "--> SR = 0.1066, Turnover = 0.3823\n",
      "\n",
      "Testing model 1, lambda_RP=N/A, lambda_S=16, z=N/A, num_periods=30, cal=3\n",
      "--> SR = 0.2386, Turnover = 0.3757\n",
      "\n",
      "Testing model 1, lambda_RP=N/A, lambda_S=16, z=N/A, num_periods=30, cal=5\n",
      "--> SR = 0.1782, Turnover = 0.3944\n",
      "\n",
      "Testing model 1, lambda_RP=N/A, lambda_S=16, z=N/A, num_periods=30, cal=8\n",
      "--> SR = 0.3051, Turnover = 0.3465\n",
      "\n",
      "Testing model 1, lambda_RP=N/A, lambda_S=16, z=N/A, num_periods=30, cal=3\n",
      "--> SR = 0.2262, Turnover = 0.2958\n",
      "\n",
      "Testing model 1, lambda_RP=N/A, lambda_S=16, z=N/A, num_periods=30, cal=5\n",
      "--> SR = 0.1495, Turnover = 0.3828\n",
      "\n",
      "Testing model 1, lambda_RP=N/A, lambda_S=16, z=N/A, num_periods=30, cal=8\n",
      "--> SR = 0.1124, Turnover = 0.3767\n",
      "\n",
      "Testing model 1, lambda_RP=N/A, lambda_S=16, z=N/A, num_periods=36, cal=3\n",
      "--> SR = 0.2423, Turnover = 0.2989\n",
      "\n",
      "Testing model 1, lambda_RP=N/A, lambda_S=16, z=N/A, num_periods=36, cal=5\n",
      "--> SR = 0.1891, Turnover = 0.3157\n",
      "\n",
      "Testing model 1, lambda_RP=N/A, lambda_S=16, z=N/A, num_periods=36, cal=8\n",
      "--> SR = 0.3567, Turnover = 0.2551\n",
      "\n",
      "Testing model 1, lambda_RP=N/A, lambda_S=16, z=N/A, num_periods=36, cal=3\n",
      "--> SR = 0.2166, Turnover = 0.2820\n",
      "\n",
      "Testing model 1, lambda_RP=N/A, lambda_S=16, z=N/A, num_periods=36, cal=5\n",
      "--> SR = 0.1412, Turnover = 0.3415\n",
      "\n",
      "Testing model 1, lambda_RP=N/A, lambda_S=16, z=N/A, num_periods=36, cal=8\n",
      "--> SR = 0.1070, Turnover = 0.3839\n",
      "\n",
      "Testing model 2, lambda_RP=0.25, lambda_S=8, z=0.25, num_periods=30, cal=3\n",
      "--> SR = 0.2387, Turnover = 0.2794\n",
      "\n",
      "Testing model 2, lambda_RP=0.25, lambda_S=8, z=0.25, num_periods=30, cal=3\n",
      "--> SR = 0.2335, Turnover = 0.2252\n",
      "\n",
      "Testing model 2, lambda_RP=0.25, lambda_S=8, z=0.25, num_periods=36, cal=3\n",
      "--> SR = 0.2427, Turnover = 0.2244\n",
      "\n",
      "Testing model 2, lambda_RP=0.25, lambda_S=8, z=0.25, num_periods=36, cal=3\n"
     ]
    },
    {
     "name": "stderr",
     "output_type": "stream",
     "text": [
      "/opt/anaconda3/envs/mie377/lib/python3.10/site-packages/cvxpy/problems/problem.py:1407: UserWarning: Solution may be inaccurate. Try another solver, adjusting the solver settings, or solve with verbose=True for more information.\n",
      "  warnings.warn(\n"
     ]
    },
    {
     "name": "stdout",
     "output_type": "stream",
     "text": [
      "--> SR = 0.2257, Turnover = 0.2150\n",
      "\n",
      "Testing model 2, lambda_RP=0.25, lambda_S=8, z=0.5, num_periods=30, cal=3\n",
      "--> SR = 0.2329, Turnover = 0.1951\n",
      "\n",
      "Testing model 2, lambda_RP=0.25, lambda_S=8, z=0.5, num_periods=30, cal=3\n",
      "--> SR = 0.2400, Turnover = 0.1573\n",
      "\n",
      "Testing model 2, lambda_RP=0.25, lambda_S=8, z=0.5, num_periods=36, cal=3\n",
      "--> SR = 0.2368, Turnover = 0.1593\n",
      "\n",
      "Testing model 2, lambda_RP=0.25, lambda_S=8, z=0.5, num_periods=36, cal=3\n"
     ]
    },
    {
     "name": "stderr",
     "output_type": "stream",
     "text": [
      "/opt/anaconda3/envs/mie377/lib/python3.10/site-packages/cvxpy/problems/problem.py:1407: UserWarning: Solution may be inaccurate. Try another solver, adjusting the solver settings, or solve with verbose=True for more information.\n",
      "  warnings.warn(\n"
     ]
    },
    {
     "name": "stdout",
     "output_type": "stream",
     "text": [
      "--> SR = 0.2343, Turnover = 0.1515\n",
      "\n",
      "Testing model 2, lambda_RP=0.25, lambda_S=8, z=0.75, num_periods=30, cal=3\n",
      "--> SR = 0.2231, Turnover = 0.1260\n",
      "\n",
      "Testing model 2, lambda_RP=0.25, lambda_S=8, z=0.75, num_periods=30, cal=3\n",
      "--> SR = 0.2456, Turnover = 0.0969\n",
      "\n",
      "Testing model 2, lambda_RP=0.25, lambda_S=8, z=0.75, num_periods=36, cal=3\n",
      "--> SR = 0.2268, Turnover = 0.1092\n",
      "\n",
      "Testing model 2, lambda_RP=0.25, lambda_S=8, z=0.75, num_periods=36, cal=3\n"
     ]
    },
    {
     "name": "stderr",
     "output_type": "stream",
     "text": [
      "/opt/anaconda3/envs/mie377/lib/python3.10/site-packages/cvxpy/problems/problem.py:1407: UserWarning: Solution may be inaccurate. Try another solver, adjusting the solver settings, or solve with verbose=True for more information.\n",
      "  warnings.warn(\n"
     ]
    },
    {
     "name": "stdout",
     "output_type": "stream",
     "text": [
      "--> SR = 0.2422, Turnover = 0.0974\n",
      "\n",
      "Testing model 2, lambda_RP=0.25, lambda_S=12, z=0.25, num_periods=30, cal=3\n",
      "--> SR = 0.2387, Turnover = 0.2794\n",
      "\n",
      "Testing model 2, lambda_RP=0.25, lambda_S=12, z=0.25, num_periods=30, cal=3\n",
      "--> SR = 0.2335, Turnover = 0.2252\n",
      "\n",
      "Testing model 2, lambda_RP=0.25, lambda_S=12, z=0.25, num_periods=36, cal=3\n",
      "--> SR = 0.2427, Turnover = 0.2244\n",
      "\n",
      "Testing model 2, lambda_RP=0.25, lambda_S=12, z=0.25, num_periods=36, cal=3\n"
     ]
    },
    {
     "name": "stderr",
     "output_type": "stream",
     "text": [
      "/opt/anaconda3/envs/mie377/lib/python3.10/site-packages/cvxpy/problems/problem.py:1407: UserWarning: Solution may be inaccurate. Try another solver, adjusting the solver settings, or solve with verbose=True for more information.\n",
      "  warnings.warn(\n"
     ]
    },
    {
     "name": "stdout",
     "output_type": "stream",
     "text": [
      "--> SR = 0.2257, Turnover = 0.2150\n",
      "\n",
      "Testing model 2, lambda_RP=0.25, lambda_S=12, z=0.5, num_periods=30, cal=3\n",
      "--> SR = 0.2329, Turnover = 0.1951\n",
      "\n",
      "Testing model 2, lambda_RP=0.25, lambda_S=12, z=0.5, num_periods=30, cal=3\n",
      "--> SR = 0.2400, Turnover = 0.1573\n",
      "\n",
      "Testing model 2, lambda_RP=0.25, lambda_S=12, z=0.5, num_periods=36, cal=3\n",
      "--> SR = 0.2368, Turnover = 0.1593\n",
      "\n",
      "Testing model 2, lambda_RP=0.25, lambda_S=12, z=0.5, num_periods=36, cal=3\n"
     ]
    },
    {
     "name": "stderr",
     "output_type": "stream",
     "text": [
      "/opt/anaconda3/envs/mie377/lib/python3.10/site-packages/cvxpy/problems/problem.py:1407: UserWarning: Solution may be inaccurate. Try another solver, adjusting the solver settings, or solve with verbose=True for more information.\n",
      "  warnings.warn(\n"
     ]
    },
    {
     "name": "stdout",
     "output_type": "stream",
     "text": [
      "--> SR = 0.2343, Turnover = 0.1515\n",
      "\n",
      "Testing model 2, lambda_RP=0.25, lambda_S=12, z=0.75, num_periods=30, cal=3\n",
      "--> SR = 0.2231, Turnover = 0.1260\n",
      "\n",
      "Testing model 2, lambda_RP=0.25, lambda_S=12, z=0.75, num_periods=30, cal=3\n",
      "--> SR = 0.2456, Turnover = 0.0969\n",
      "\n",
      "Testing model 2, lambda_RP=0.25, lambda_S=12, z=0.75, num_periods=36, cal=3\n",
      "--> SR = 0.2268, Turnover = 0.1092\n",
      "\n",
      "Testing model 2, lambda_RP=0.25, lambda_S=12, z=0.75, num_periods=36, cal=3\n"
     ]
    },
    {
     "name": "stderr",
     "output_type": "stream",
     "text": [
      "/opt/anaconda3/envs/mie377/lib/python3.10/site-packages/cvxpy/problems/problem.py:1407: UserWarning: Solution may be inaccurate. Try another solver, adjusting the solver settings, or solve with verbose=True for more information.\n",
      "  warnings.warn(\n"
     ]
    },
    {
     "name": "stdout",
     "output_type": "stream",
     "text": [
      "--> SR = 0.2422, Turnover = 0.0974\n",
      "\n",
      "Testing model 2, lambda_RP=0.25, lambda_S=16, z=0.25, num_periods=30, cal=3\n",
      "--> SR = 0.2387, Turnover = 0.2794\n",
      "\n",
      "Testing model 2, lambda_RP=0.25, lambda_S=16, z=0.25, num_periods=30, cal=3\n",
      "--> SR = 0.2335, Turnover = 0.2252\n",
      "\n",
      "Testing model 2, lambda_RP=0.25, lambda_S=16, z=0.25, num_periods=36, cal=3\n",
      "--> SR = 0.2427, Turnover = 0.2244\n",
      "\n",
      "Testing model 2, lambda_RP=0.25, lambda_S=16, z=0.25, num_periods=36, cal=3\n"
     ]
    },
    {
     "name": "stderr",
     "output_type": "stream",
     "text": [
      "/opt/anaconda3/envs/mie377/lib/python3.10/site-packages/cvxpy/problems/problem.py:1407: UserWarning: Solution may be inaccurate. Try another solver, adjusting the solver settings, or solve with verbose=True for more information.\n",
      "  warnings.warn(\n"
     ]
    },
    {
     "name": "stdout",
     "output_type": "stream",
     "text": [
      "--> SR = 0.2257, Turnover = 0.2150\n",
      "\n",
      "Testing model 2, lambda_RP=0.25, lambda_S=16, z=0.5, num_periods=30, cal=3\n",
      "--> SR = 0.2329, Turnover = 0.1951\n",
      "\n",
      "Testing model 2, lambda_RP=0.25, lambda_S=16, z=0.5, num_periods=30, cal=3\n",
      "--> SR = 0.2400, Turnover = 0.1573\n",
      "\n",
      "Testing model 2, lambda_RP=0.25, lambda_S=16, z=0.5, num_periods=36, cal=3\n",
      "--> SR = 0.2368, Turnover = 0.1593\n",
      "\n",
      "Testing model 2, lambda_RP=0.25, lambda_S=16, z=0.5, num_periods=36, cal=3\n"
     ]
    },
    {
     "name": "stderr",
     "output_type": "stream",
     "text": [
      "/opt/anaconda3/envs/mie377/lib/python3.10/site-packages/cvxpy/problems/problem.py:1407: UserWarning: Solution may be inaccurate. Try another solver, adjusting the solver settings, or solve with verbose=True for more information.\n",
      "  warnings.warn(\n"
     ]
    },
    {
     "name": "stdout",
     "output_type": "stream",
     "text": [
      "--> SR = 0.2343, Turnover = 0.1515\n",
      "\n",
      "Testing model 2, lambda_RP=0.25, lambda_S=16, z=0.75, num_periods=30, cal=3\n",
      "--> SR = 0.2231, Turnover = 0.1260\n",
      "\n",
      "Testing model 2, lambda_RP=0.25, lambda_S=16, z=0.75, num_periods=30, cal=3\n",
      "--> SR = 0.2456, Turnover = 0.0969\n",
      "\n",
      "Testing model 2, lambda_RP=0.25, lambda_S=16, z=0.75, num_periods=36, cal=3\n",
      "--> SR = 0.2268, Turnover = 0.1092\n",
      "\n",
      "Testing model 2, lambda_RP=0.25, lambda_S=16, z=0.75, num_periods=36, cal=3\n"
     ]
    },
    {
     "name": "stderr",
     "output_type": "stream",
     "text": [
      "/opt/anaconda3/envs/mie377/lib/python3.10/site-packages/cvxpy/problems/problem.py:1407: UserWarning: Solution may be inaccurate. Try another solver, adjusting the solver settings, or solve with verbose=True for more information.\n",
      "  warnings.warn(\n"
     ]
    },
    {
     "name": "stdout",
     "output_type": "stream",
     "text": [
      "--> SR = 0.2422, Turnover = 0.0974\n",
      "\n",
      "Testing model 2, lambda_RP=0.5, lambda_S=8, z=0.25, num_periods=30, cal=3\n",
      "--> SR = 0.2387, Turnover = 0.2794\n",
      "\n",
      "Testing model 2, lambda_RP=0.5, lambda_S=8, z=0.25, num_periods=30, cal=3\n",
      "--> SR = 0.2335, Turnover = 0.2252\n",
      "\n",
      "Testing model 2, lambda_RP=0.5, lambda_S=8, z=0.25, num_periods=36, cal=3\n",
      "--> SR = 0.2427, Turnover = 0.2244\n",
      "\n",
      "Testing model 2, lambda_RP=0.5, lambda_S=8, z=0.25, num_periods=36, cal=3\n"
     ]
    },
    {
     "name": "stderr",
     "output_type": "stream",
     "text": [
      "/opt/anaconda3/envs/mie377/lib/python3.10/site-packages/cvxpy/problems/problem.py:1407: UserWarning: Solution may be inaccurate. Try another solver, adjusting the solver settings, or solve with verbose=True for more information.\n",
      "  warnings.warn(\n"
     ]
    },
    {
     "name": "stdout",
     "output_type": "stream",
     "text": [
      "--> SR = 0.2257, Turnover = 0.2150\n",
      "\n",
      "Testing model 2, lambda_RP=0.5, lambda_S=8, z=0.5, num_periods=30, cal=3\n",
      "--> SR = 0.2329, Turnover = 0.1951\n",
      "\n",
      "Testing model 2, lambda_RP=0.5, lambda_S=8, z=0.5, num_periods=30, cal=3\n",
      "--> SR = 0.2400, Turnover = 0.1573\n",
      "\n",
      "Testing model 2, lambda_RP=0.5, lambda_S=8, z=0.5, num_periods=36, cal=3\n",
      "--> SR = 0.2368, Turnover = 0.1593\n",
      "\n",
      "Testing model 2, lambda_RP=0.5, lambda_S=8, z=0.5, num_periods=36, cal=3\n"
     ]
    },
    {
     "name": "stderr",
     "output_type": "stream",
     "text": [
      "/opt/anaconda3/envs/mie377/lib/python3.10/site-packages/cvxpy/problems/problem.py:1407: UserWarning: Solution may be inaccurate. Try another solver, adjusting the solver settings, or solve with verbose=True for more information.\n",
      "  warnings.warn(\n"
     ]
    },
    {
     "name": "stdout",
     "output_type": "stream",
     "text": [
      "--> SR = 0.2343, Turnover = 0.1515\n",
      "\n",
      "Testing model 2, lambda_RP=0.5, lambda_S=8, z=0.75, num_periods=30, cal=3\n",
      "--> SR = 0.2231, Turnover = 0.1260\n",
      "\n",
      "Testing model 2, lambda_RP=0.5, lambda_S=8, z=0.75, num_periods=30, cal=3\n",
      "--> SR = 0.2456, Turnover = 0.0969\n",
      "\n",
      "Testing model 2, lambda_RP=0.5, lambda_S=8, z=0.75, num_periods=36, cal=3\n",
      "--> SR = 0.2268, Turnover = 0.1092\n",
      "\n",
      "Testing model 2, lambda_RP=0.5, lambda_S=8, z=0.75, num_periods=36, cal=3\n"
     ]
    },
    {
     "name": "stderr",
     "output_type": "stream",
     "text": [
      "/opt/anaconda3/envs/mie377/lib/python3.10/site-packages/cvxpy/problems/problem.py:1407: UserWarning: Solution may be inaccurate. Try another solver, adjusting the solver settings, or solve with verbose=True for more information.\n",
      "  warnings.warn(\n"
     ]
    },
    {
     "name": "stdout",
     "output_type": "stream",
     "text": [
      "--> SR = 0.2422, Turnover = 0.0974\n",
      "\n",
      "Testing model 2, lambda_RP=0.5, lambda_S=12, z=0.25, num_periods=30, cal=3\n",
      "--> SR = 0.2387, Turnover = 0.2794\n",
      "\n",
      "Testing model 2, lambda_RP=0.5, lambda_S=12, z=0.25, num_periods=30, cal=3\n",
      "--> SR = 0.2335, Turnover = 0.2252\n",
      "\n",
      "Testing model 2, lambda_RP=0.5, lambda_S=12, z=0.25, num_periods=36, cal=3\n",
      "--> SR = 0.2427, Turnover = 0.2244\n",
      "\n",
      "Testing model 2, lambda_RP=0.5, lambda_S=12, z=0.25, num_periods=36, cal=3\n"
     ]
    },
    {
     "name": "stderr",
     "output_type": "stream",
     "text": [
      "/opt/anaconda3/envs/mie377/lib/python3.10/site-packages/cvxpy/problems/problem.py:1407: UserWarning: Solution may be inaccurate. Try another solver, adjusting the solver settings, or solve with verbose=True for more information.\n",
      "  warnings.warn(\n"
     ]
    },
    {
     "name": "stdout",
     "output_type": "stream",
     "text": [
      "--> SR = 0.2257, Turnover = 0.2150\n",
      "\n",
      "Testing model 2, lambda_RP=0.5, lambda_S=12, z=0.5, num_periods=30, cal=3\n",
      "--> SR = 0.2329, Turnover = 0.1951\n",
      "\n",
      "Testing model 2, lambda_RP=0.5, lambda_S=12, z=0.5, num_periods=30, cal=3\n",
      "--> SR = 0.2400, Turnover = 0.1573\n",
      "\n",
      "Testing model 2, lambda_RP=0.5, lambda_S=12, z=0.5, num_periods=36, cal=3\n",
      "--> SR = 0.2368, Turnover = 0.1593\n",
      "\n",
      "Testing model 2, lambda_RP=0.5, lambda_S=12, z=0.5, num_periods=36, cal=3\n"
     ]
    },
    {
     "name": "stderr",
     "output_type": "stream",
     "text": [
      "/opt/anaconda3/envs/mie377/lib/python3.10/site-packages/cvxpy/problems/problem.py:1407: UserWarning: Solution may be inaccurate. Try another solver, adjusting the solver settings, or solve with verbose=True for more information.\n",
      "  warnings.warn(\n"
     ]
    },
    {
     "name": "stdout",
     "output_type": "stream",
     "text": [
      "--> SR = 0.2343, Turnover = 0.1515\n",
      "\n",
      "Testing model 2, lambda_RP=0.5, lambda_S=12, z=0.75, num_periods=30, cal=3\n",
      "--> SR = 0.2231, Turnover = 0.1260\n",
      "\n",
      "Testing model 2, lambda_RP=0.5, lambda_S=12, z=0.75, num_periods=30, cal=3\n",
      "--> SR = 0.2456, Turnover = 0.0969\n",
      "\n",
      "Testing model 2, lambda_RP=0.5, lambda_S=12, z=0.75, num_periods=36, cal=3\n",
      "--> SR = 0.2268, Turnover = 0.1092\n",
      "\n",
      "Testing model 2, lambda_RP=0.5, lambda_S=12, z=0.75, num_periods=36, cal=3\n"
     ]
    },
    {
     "name": "stderr",
     "output_type": "stream",
     "text": [
      "/opt/anaconda3/envs/mie377/lib/python3.10/site-packages/cvxpy/problems/problem.py:1407: UserWarning: Solution may be inaccurate. Try another solver, adjusting the solver settings, or solve with verbose=True for more information.\n",
      "  warnings.warn(\n"
     ]
    },
    {
     "name": "stdout",
     "output_type": "stream",
     "text": [
      "--> SR = 0.2422, Turnover = 0.0974\n",
      "\n",
      "Testing model 2, lambda_RP=0.5, lambda_S=16, z=0.25, num_periods=30, cal=3\n",
      "--> SR = 0.2387, Turnover = 0.2794\n",
      "\n",
      "Testing model 2, lambda_RP=0.5, lambda_S=16, z=0.25, num_periods=30, cal=3\n",
      "--> SR = 0.2335, Turnover = 0.2252\n",
      "\n",
      "Testing model 2, lambda_RP=0.5, lambda_S=16, z=0.25, num_periods=36, cal=3\n",
      "--> SR = 0.2427, Turnover = 0.2244\n",
      "\n",
      "Testing model 2, lambda_RP=0.5, lambda_S=16, z=0.25, num_periods=36, cal=3\n"
     ]
    },
    {
     "name": "stderr",
     "output_type": "stream",
     "text": [
      "/opt/anaconda3/envs/mie377/lib/python3.10/site-packages/cvxpy/problems/problem.py:1407: UserWarning: Solution may be inaccurate. Try another solver, adjusting the solver settings, or solve with verbose=True for more information.\n",
      "  warnings.warn(\n"
     ]
    },
    {
     "name": "stdout",
     "output_type": "stream",
     "text": [
      "--> SR = 0.2257, Turnover = 0.2150\n",
      "\n",
      "Testing model 2, lambda_RP=0.5, lambda_S=16, z=0.5, num_periods=30, cal=3\n",
      "--> SR = 0.2329, Turnover = 0.1951\n",
      "\n",
      "Testing model 2, lambda_RP=0.5, lambda_S=16, z=0.5, num_periods=30, cal=3\n",
      "--> SR = 0.2400, Turnover = 0.1573\n",
      "\n",
      "Testing model 2, lambda_RP=0.5, lambda_S=16, z=0.5, num_periods=36, cal=3\n",
      "--> SR = 0.2368, Turnover = 0.1593\n",
      "\n",
      "Testing model 2, lambda_RP=0.5, lambda_S=16, z=0.5, num_periods=36, cal=3\n"
     ]
    },
    {
     "name": "stderr",
     "output_type": "stream",
     "text": [
      "/opt/anaconda3/envs/mie377/lib/python3.10/site-packages/cvxpy/problems/problem.py:1407: UserWarning: Solution may be inaccurate. Try another solver, adjusting the solver settings, or solve with verbose=True for more information.\n",
      "  warnings.warn(\n"
     ]
    },
    {
     "name": "stdout",
     "output_type": "stream",
     "text": [
      "--> SR = 0.2343, Turnover = 0.1515\n",
      "\n",
      "Testing model 2, lambda_RP=0.5, lambda_S=16, z=0.75, num_periods=30, cal=3\n",
      "--> SR = 0.2231, Turnover = 0.1260\n",
      "\n",
      "Testing model 2, lambda_RP=0.5, lambda_S=16, z=0.75, num_periods=30, cal=3\n",
      "--> SR = 0.2456, Turnover = 0.0969\n",
      "\n",
      "Testing model 2, lambda_RP=0.5, lambda_S=16, z=0.75, num_periods=36, cal=3\n",
      "--> SR = 0.2268, Turnover = 0.1092\n",
      "\n",
      "Testing model 2, lambda_RP=0.5, lambda_S=16, z=0.75, num_periods=36, cal=3\n"
     ]
    },
    {
     "name": "stderr",
     "output_type": "stream",
     "text": [
      "/opt/anaconda3/envs/mie377/lib/python3.10/site-packages/cvxpy/problems/problem.py:1407: UserWarning: Solution may be inaccurate. Try another solver, adjusting the solver settings, or solve with verbose=True for more information.\n",
      "  warnings.warn(\n"
     ]
    },
    {
     "name": "stdout",
     "output_type": "stream",
     "text": [
      "--> SR = 0.2422, Turnover = 0.0974\n",
      "\n",
      "Testing model 2, lambda_RP=0.75, lambda_S=8, z=0.25, num_periods=30, cal=3\n",
      "--> SR = 0.2387, Turnover = 0.2794\n",
      "\n",
      "Testing model 2, lambda_RP=0.75, lambda_S=8, z=0.25, num_periods=30, cal=3\n",
      "--> SR = 0.2335, Turnover = 0.2252\n",
      "\n",
      "Testing model 2, lambda_RP=0.75, lambda_S=8, z=0.25, num_periods=36, cal=3\n",
      "--> SR = 0.2427, Turnover = 0.2244\n",
      "\n",
      "Testing model 2, lambda_RP=0.75, lambda_S=8, z=0.25, num_periods=36, cal=3\n"
     ]
    },
    {
     "name": "stderr",
     "output_type": "stream",
     "text": [
      "/opt/anaconda3/envs/mie377/lib/python3.10/site-packages/cvxpy/problems/problem.py:1407: UserWarning: Solution may be inaccurate. Try another solver, adjusting the solver settings, or solve with verbose=True for more information.\n",
      "  warnings.warn(\n"
     ]
    },
    {
     "name": "stdout",
     "output_type": "stream",
     "text": [
      "--> SR = 0.2257, Turnover = 0.2150\n",
      "\n",
      "Testing model 2, lambda_RP=0.75, lambda_S=8, z=0.5, num_periods=30, cal=3\n",
      "--> SR = 0.2329, Turnover = 0.1951\n",
      "\n",
      "Testing model 2, lambda_RP=0.75, lambda_S=8, z=0.5, num_periods=30, cal=3\n",
      "--> SR = 0.2400, Turnover = 0.1573\n",
      "\n",
      "Testing model 2, lambda_RP=0.75, lambda_S=8, z=0.5, num_periods=36, cal=3\n",
      "--> SR = 0.2368, Turnover = 0.1593\n",
      "\n",
      "Testing model 2, lambda_RP=0.75, lambda_S=8, z=0.5, num_periods=36, cal=3\n"
     ]
    },
    {
     "name": "stderr",
     "output_type": "stream",
     "text": [
      "/opt/anaconda3/envs/mie377/lib/python3.10/site-packages/cvxpy/problems/problem.py:1407: UserWarning: Solution may be inaccurate. Try another solver, adjusting the solver settings, or solve with verbose=True for more information.\n",
      "  warnings.warn(\n"
     ]
    },
    {
     "name": "stdout",
     "output_type": "stream",
     "text": [
      "--> SR = 0.2343, Turnover = 0.1515\n",
      "\n",
      "Testing model 2, lambda_RP=0.75, lambda_S=8, z=0.75, num_periods=30, cal=3\n",
      "--> SR = 0.2231, Turnover = 0.1260\n",
      "\n",
      "Testing model 2, lambda_RP=0.75, lambda_S=8, z=0.75, num_periods=30, cal=3\n",
      "--> SR = 0.2456, Turnover = 0.0969\n",
      "\n",
      "Testing model 2, lambda_RP=0.75, lambda_S=8, z=0.75, num_periods=36, cal=3\n",
      "--> SR = 0.2268, Turnover = 0.1092\n",
      "\n",
      "Testing model 2, lambda_RP=0.75, lambda_S=8, z=0.75, num_periods=36, cal=3\n"
     ]
    },
    {
     "name": "stderr",
     "output_type": "stream",
     "text": [
      "/opt/anaconda3/envs/mie377/lib/python3.10/site-packages/cvxpy/problems/problem.py:1407: UserWarning: Solution may be inaccurate. Try another solver, adjusting the solver settings, or solve with verbose=True for more information.\n",
      "  warnings.warn(\n"
     ]
    },
    {
     "name": "stdout",
     "output_type": "stream",
     "text": [
      "--> SR = 0.2422, Turnover = 0.0974\n",
      "\n",
      "Testing model 2, lambda_RP=0.75, lambda_S=12, z=0.25, num_periods=30, cal=3\n",
      "--> SR = 0.2387, Turnover = 0.2794\n",
      "\n",
      "Testing model 2, lambda_RP=0.75, lambda_S=12, z=0.25, num_periods=30, cal=3\n",
      "--> SR = 0.2335, Turnover = 0.2252\n",
      "\n",
      "Testing model 2, lambda_RP=0.75, lambda_S=12, z=0.25, num_periods=36, cal=3\n",
      "--> SR = 0.2427, Turnover = 0.2244\n",
      "\n",
      "Testing model 2, lambda_RP=0.75, lambda_S=12, z=0.25, num_periods=36, cal=3\n"
     ]
    },
    {
     "name": "stderr",
     "output_type": "stream",
     "text": [
      "/opt/anaconda3/envs/mie377/lib/python3.10/site-packages/cvxpy/problems/problem.py:1407: UserWarning: Solution may be inaccurate. Try another solver, adjusting the solver settings, or solve with verbose=True for more information.\n",
      "  warnings.warn(\n"
     ]
    },
    {
     "name": "stdout",
     "output_type": "stream",
     "text": [
      "--> SR = 0.2257, Turnover = 0.2150\n",
      "\n",
      "Testing model 2, lambda_RP=0.75, lambda_S=12, z=0.5, num_periods=30, cal=3\n",
      "--> SR = 0.2329, Turnover = 0.1951\n",
      "\n",
      "Testing model 2, lambda_RP=0.75, lambda_S=12, z=0.5, num_periods=30, cal=3\n",
      "--> SR = 0.2400, Turnover = 0.1573\n",
      "\n",
      "Testing model 2, lambda_RP=0.75, lambda_S=12, z=0.5, num_periods=36, cal=3\n",
      "--> SR = 0.2368, Turnover = 0.1593\n",
      "\n",
      "Testing model 2, lambda_RP=0.75, lambda_S=12, z=0.5, num_periods=36, cal=3\n"
     ]
    },
    {
     "name": "stderr",
     "output_type": "stream",
     "text": [
      "/opt/anaconda3/envs/mie377/lib/python3.10/site-packages/cvxpy/problems/problem.py:1407: UserWarning: Solution may be inaccurate. Try another solver, adjusting the solver settings, or solve with verbose=True for more information.\n",
      "  warnings.warn(\n"
     ]
    },
    {
     "name": "stdout",
     "output_type": "stream",
     "text": [
      "--> SR = 0.2343, Turnover = 0.1515\n",
      "\n",
      "Testing model 2, lambda_RP=0.75, lambda_S=12, z=0.75, num_periods=30, cal=3\n",
      "--> SR = 0.2231, Turnover = 0.1260\n",
      "\n",
      "Testing model 2, lambda_RP=0.75, lambda_S=12, z=0.75, num_periods=30, cal=3\n",
      "--> SR = 0.2456, Turnover = 0.0969\n",
      "\n",
      "Testing model 2, lambda_RP=0.75, lambda_S=12, z=0.75, num_periods=36, cal=3\n",
      "--> SR = 0.2268, Turnover = 0.1092\n",
      "\n",
      "Testing model 2, lambda_RP=0.75, lambda_S=12, z=0.75, num_periods=36, cal=3\n"
     ]
    },
    {
     "name": "stderr",
     "output_type": "stream",
     "text": [
      "/opt/anaconda3/envs/mie377/lib/python3.10/site-packages/cvxpy/problems/problem.py:1407: UserWarning: Solution may be inaccurate. Try another solver, adjusting the solver settings, or solve with verbose=True for more information.\n",
      "  warnings.warn(\n"
     ]
    },
    {
     "name": "stdout",
     "output_type": "stream",
     "text": [
      "--> SR = 0.2422, Turnover = 0.0974\n",
      "\n",
      "Testing model 2, lambda_RP=0.75, lambda_S=16, z=0.25, num_periods=30, cal=3\n",
      "--> SR = 0.2387, Turnover = 0.2794\n",
      "\n",
      "Testing model 2, lambda_RP=0.75, lambda_S=16, z=0.25, num_periods=30, cal=3\n",
      "--> SR = 0.2335, Turnover = 0.2252\n",
      "\n",
      "Testing model 2, lambda_RP=0.75, lambda_S=16, z=0.25, num_periods=36, cal=3\n",
      "--> SR = 0.2427, Turnover = 0.2244\n",
      "\n",
      "Testing model 2, lambda_RP=0.75, lambda_S=16, z=0.25, num_periods=36, cal=3\n"
     ]
    },
    {
     "name": "stderr",
     "output_type": "stream",
     "text": [
      "/opt/anaconda3/envs/mie377/lib/python3.10/site-packages/cvxpy/problems/problem.py:1407: UserWarning: Solution may be inaccurate. Try another solver, adjusting the solver settings, or solve with verbose=True for more information.\n",
      "  warnings.warn(\n"
     ]
    },
    {
     "name": "stdout",
     "output_type": "stream",
     "text": [
      "--> SR = 0.2257, Turnover = 0.2150\n",
      "\n",
      "Testing model 2, lambda_RP=0.75, lambda_S=16, z=0.5, num_periods=30, cal=3\n",
      "--> SR = 0.2329, Turnover = 0.1951\n",
      "\n",
      "Testing model 2, lambda_RP=0.75, lambda_S=16, z=0.5, num_periods=30, cal=3\n",
      "--> SR = 0.2400, Turnover = 0.1573\n",
      "\n",
      "Testing model 2, lambda_RP=0.75, lambda_S=16, z=0.5, num_periods=36, cal=3\n",
      "--> SR = 0.2368, Turnover = 0.1593\n",
      "\n",
      "Testing model 2, lambda_RP=0.75, lambda_S=16, z=0.5, num_periods=36, cal=3\n"
     ]
    },
    {
     "name": "stderr",
     "output_type": "stream",
     "text": [
      "/opt/anaconda3/envs/mie377/lib/python3.10/site-packages/cvxpy/problems/problem.py:1407: UserWarning: Solution may be inaccurate. Try another solver, adjusting the solver settings, or solve with verbose=True for more information.\n",
      "  warnings.warn(\n"
     ]
    },
    {
     "name": "stdout",
     "output_type": "stream",
     "text": [
      "--> SR = 0.2343, Turnover = 0.1515\n",
      "\n",
      "Testing model 2, lambda_RP=0.75, lambda_S=16, z=0.75, num_periods=30, cal=3\n",
      "--> SR = 0.2231, Turnover = 0.1260\n",
      "\n",
      "Testing model 2, lambda_RP=0.75, lambda_S=16, z=0.75, num_periods=30, cal=3\n",
      "--> SR = 0.2456, Turnover = 0.0969\n",
      "\n",
      "Testing model 2, lambda_RP=0.75, lambda_S=16, z=0.75, num_periods=36, cal=3\n",
      "--> SR = 0.2268, Turnover = 0.1092\n",
      "\n",
      "Testing model 2, lambda_RP=0.75, lambda_S=16, z=0.75, num_periods=36, cal=3\n"
     ]
    },
    {
     "name": "stderr",
     "output_type": "stream",
     "text": [
      "/opt/anaconda3/envs/mie377/lib/python3.10/site-packages/cvxpy/problems/problem.py:1407: UserWarning: Solution may be inaccurate. Try another solver, adjusting the solver settings, or solve with verbose=True for more information.\n",
      "  warnings.warn(\n"
     ]
    },
    {
     "name": "stdout",
     "output_type": "stream",
     "text": [
      "--> SR = 0.2422, Turnover = 0.0974\n"
     ]
    }
   ],
   "source": [
    "best_results = {}\n",
    "\n",
    "\n",
    "for model in range(3):\n",
    "    best_ratio = -np.inf\n",
    "    best_params = {}\n",
    "\n",
    "    # Model 0 (Risk Parity)\n",
    "    if model == 0:\n",
    "        lambda_RP = 0.75  # example value\n",
    "        lamda_S = \"N/A\"\n",
    "        z = \"N/A\"\n",
    "        for num_periods in [30,36]:\n",
    "            SRs = []\n",
    "            turnovers = []\n",
    "            for file in [[\"MIE377_AssetPrices_1.csv\", \"MIE377_FactorReturns_1.csv\"], \n",
    "                         [\"MIE377_AssetPrices_2.csv\", \"MIE377_FactorReturns_2.csv\"]]:\n",
    "                for cal in [3, 5, 8]:\n",
    "                    print(f\"\\nTesting model {model}, lambda_RP={lambda_RP}, lambda_S={lamda_S}, z={z}, num_periods={num_periods}, cal={cal}\")\n",
    "                    SR, turnover = run_strategy(num_periods=num_periods, lambda_RP=lambda_RP, lamda_S=None, z=None,\n",
    "                                                model=model, cal=cal, file_1=file[0], file_2=file[1])\n",
    "                    print(f\"--> SR = {SR:.4f}, Turnover = {turnover:.4f}\")\n",
    "                    SRs.append(SR)\n",
    "                    turnovers.append(turnover)\n",
    "\n",
    "            avg_SR = np.mean(SRs)\n",
    "            avg_turnover = np.mean(turnovers)\n",
    "            avg_ratio = avg_SR / avg_turnover\n",
    "\n",
    "            if avg_ratio > best_ratio:\n",
    "                best_ratio = avg_ratio\n",
    "                best_params = {\n",
    "                    'model': model,\n",
    "                    'lambda_RP': lambda_RP,\n",
    "                    'lambda_S': lamda_S,\n",
    "                    'z': z,\n",
    "                    'num_periods': num_periods,\n",
    "                    'SR': avg_SR,\n",
    "                    'turnover': avg_turnover\n",
    "                }\n",
    "\n",
    "    # Model 1 (Sharpe)\n",
    "    elif model == 1:\n",
    "        lambda_RP = \"N/A\"\n",
    "        z = \"N/A\"\n",
    "        for lamda_S in [8, 12, 16]:\n",
    "            for num_periods in [30, 36]:\n",
    "                SRs = []\n",
    "                turnovers = []\n",
    "                for file in [[\"MIE377_AssetPrices_1.csv\", \"MIE377_FactorReturns_1.csv\"],\n",
    "                             [\"MIE377_AssetPrices_2.csv\", \"MIE377_FactorReturns_2.csv\"]]:\n",
    "                    for cal in [3, 5, 8]:\n",
    "                        print(f\"\\nTesting model {model}, lambda_RP={lambda_RP}, lambda_S={lamda_S}, z={z}, num_periods={num_periods}, cal={cal}\")\n",
    "                        SR, turnover = run_strategy(num_periods=num_periods, lambda_RP=None, lamda_S=lamda_S, z=None,\n",
    "                                                    model=model, cal=cal, file_1=file[0], file_2=file[1])\n",
    "                        print(f\"--> SR = {SR:.4f}, Turnover = {turnover:.4f}\")\n",
    "                        SRs.append(SR)\n",
    "                        turnovers.append(turnover)\n",
    "\n",
    "                avg_SR = np.mean(SRs)\n",
    "                avg_turnover = np.mean(turnovers)\n",
    "                avg_ratio = avg_SR / avg_turnover\n",
    "\n",
    "                if avg_ratio > best_ratio:\n",
    "                    best_ratio = avg_ratio\n",
    "                    best_params = {\n",
    "                        'model': model,\n",
    "                        'lambda_RP': lambda_RP,\n",
    "                        'lambda_S': lamda_S,\n",
    "                        'z': z,\n",
    "                        'num_periods': num_periods,\n",
    "                        'SR': avg_SR,\n",
    "                        'turnover': avg_turnover\n",
    "                    }\n",
    "\n",
    "    # Model 2 (Mixed)\n",
    "    elif model == 2:\n",
    "        for lambda_RP in [0.25, 0.5, 0.75]:\n",
    "            for lamda_S in [8, 12, 16]:\n",
    "                for z in [0.25, 0.5, 0.75]:\n",
    "                    for num_periods in [30, 36]:\n",
    "                        SRs = []\n",
    "                        turnovers = []\n",
    "                        for file in [[\"MIE377_AssetPrices_1.csv\", \"MIE377_FactorReturns_1.csv\"],\n",
    "                                     [\"MIE377_AssetPrices_2.csv\", \"MIE377_FactorReturns_2.csv\"]]:\n",
    "                            for cal in [3]:\n",
    "                                print(f\"\\nTesting model {model}, lambda_RP={lambda_RP}, lambda_S={lamda_S}, z={z}, num_periods={num_periods}, cal={cal}\")\n",
    "                                SR, turnover = run_strategy(num_periods=num_periods, lambda_RP=lambda_RP,\n",
    "                                                            lamda_S=lamda_S, z=z, model=model, cal=cal,\n",
    "                                                            file_1=file[0], file_2=file[1])\n",
    "                                print(f\"--> SR = {SR:.4f}, Turnover = {turnover:.4f}\")\n",
    "                                SRs.append(SR)\n",
    "                                turnovers.append(turnover)\n",
    "\n",
    "                        avg_SR = np.mean(SRs)\n",
    "                        avg_turnover = np.mean(turnovers)\n",
    "                        avg_ratio = avg_SR / avg_turnover\n",
    "\n",
    "                        if avg_ratio > best_ratio:\n",
    "                            best_ratio = avg_ratio\n",
    "                            best_params = {\n",
    "                                'model': model,\n",
    "                                'lambda_RP': lambda_RP,\n",
    "                                'lambda_S': lamda_S,\n",
    "                                'z': z,\n",
    "                                'num_periods': num_periods,\n",
    "                                'SR': avg_SR,\n",
    "                                'turnover': avg_turnover\n",
    "                            }\n",
    "\n",
    "    best_results[model] = best_params"
   ]
  },
  {
   "cell_type": "code",
   "execution_count": 18,
   "metadata": {},
   "outputs": [
    {
     "name": "stdout",
     "output_type": "stream",
     "text": [
      "\n",
      "Best Results Summary:\n",
      "   Model lambda_RP lambda_S     z  num_periods        SR  Turnover\n",
      "0      0      0.75      N/A   N/A           36  0.218721  0.087885\n",
      "1      1       N/A        8   N/A           36  0.208535  0.310692\n",
      "2      2      0.25        8  0.75           36  0.234507  0.103338\n"
     ]
    }
   ],
   "source": [
    "# Prepare data for a nice table\n",
    "table_data = []\n",
    "for model, result in best_results.items():\n",
    "    table_data.append({\n",
    "        'Model': model,\n",
    "        'lambda_RP': result.get('lambda_RP', 'N/A'),\n",
    "        'lambda_S': result.get('lambda_S', 'N/A'),\n",
    "        'z': result.get('z', 'N/A'),\n",
    "        'num_periods': result['num_periods'],\n",
    "        'SR': result['SR'],\n",
    "        'Turnover': result['turnover']\n",
    "    })\n",
    "\n",
    "# Convert to DataFrame for better readability\n",
    "df_results = pd.DataFrame(table_data)\n",
    "\n",
    "# Display the results in a table format\n",
    "print(\"\\nBest Results Summary:\")\n",
    "print(df_results)\n"
   ]
  },
  {
   "cell_type": "code",
   "execution_count": 20,
   "metadata": {},
   "outputs": [
    {
     "name": "stdout",
     "output_type": "stream",
     "text": [
      "\n",
      "Testing model 0, lambda_RP=0.25, lambda_S=N/A, z=N/A, num_periods=36, cal=3\n",
      "--> SR = 0.2742, Turnover = 0.1489\n",
      "\n",
      "Testing model 0, lambda_RP=0.25, lambda_S=N/A, z=N/A, num_periods=36, cal=5\n",
      "--> SR = 0.2116, Turnover = 0.1508\n",
      "\n",
      "Testing model 0, lambda_RP=0.25, lambda_S=N/A, z=N/A, num_periods=36, cal=8\n",
      "--> SR = 0.1842, Turnover = 0.1514\n",
      "\n",
      "Testing model 1, lambda_RP=N/A, lambda_S=8, z=N/A, num_periods=36, cal=3\n",
      "--> SR = 0.3226, Turnover = 0.3284\n",
      "\n",
      "Testing model 1, lambda_RP=N/A, lambda_S=8, z=N/A, num_periods=36, cal=5\n",
      "--> SR = 0.2550, Turnover = 0.3170\n",
      "\n",
      "Testing model 1, lambda_RP=N/A, lambda_S=8, z=N/A, num_periods=36, cal=8\n",
      "--> SR = 0.2063, Turnover = 0.3582\n",
      "\n",
      "Testing model 2, lambda_RP=0.25, lambda_S=8, z=0.75, num_periods=36, cal=3\n",
      "--> SR = 0.2908, Turnover = 0.1314\n",
      "\n",
      "Testing model 2, lambda_RP=0.25, lambda_S=8, z=0.75, num_periods=36, cal=5\n"
     ]
    },
    {
     "name": "stderr",
     "output_type": "stream",
     "text": [
      "/opt/anaconda3/envs/mie377/lib/python3.10/site-packages/cvxpy/problems/problem.py:1407: UserWarning: Solution may be inaccurate. Try another solver, adjusting the solver settings, or solve with verbose=True for more information.\n",
      "  warnings.warn(\n"
     ]
    },
    {
     "name": "stdout",
     "output_type": "stream",
     "text": [
      "--> SR = 0.2247, Turnover = 0.1350\n",
      "\n",
      "Testing model 2, lambda_RP=0.25, lambda_S=8, z=0.75, num_periods=36, cal=8\n",
      "--> SR = 0.1919, Turnover = 0.1299\n",
      "\n",
      "Best Results Summary:\n",
      "   Model lambda_RP lambda_S     z  num_periods        SR  Turnover\n",
      "0      0      0.25      N/A   N/A           36  0.223317  0.150350\n",
      "1      1       N/A        8   N/A           36  0.261300  0.334508\n",
      "2      2      0.25        8  0.75           36  0.235811  0.132089\n"
     ]
    }
   ],
   "source": [
    "best_results = {}\n",
    "\n",
    "\n",
    "for model in range(3):\n",
    "    best_ratio = -np.inf\n",
    "    best_params = {}\n",
    "\n",
    "    # Model 0 (Risk Parity)\n",
    "    if model == 0:\n",
    "        lambda_RP = 0.25  # example value\n",
    "        lamda_S = \"N/A\"\n",
    "        z = \"N/A\"\n",
    "        for num_periods in [36]:\n",
    "            SRs = []\n",
    "            turnovers = []\n",
    "            for file in [[\"MIE377_AssetPrices_3.csv\", \"MIE377_FactorReturns_3.csv\"]]:\n",
    "                for cal in [3, 5, 8]:\n",
    "                    print(f\"\\nTesting model {model}, lambda_RP={lambda_RP}, lambda_S={lamda_S}, z={z}, num_periods={num_periods}, cal={cal}\")\n",
    "                    SR, turnover = run_strategy(num_periods=num_periods, lambda_RP=lambda_RP, lamda_S=None, z=None,\n",
    "                                                model=model, cal=cal, file_1=file[0], file_2=file[1])\n",
    "                    print(f\"--> SR = {SR:.4f}, Turnover = {turnover:.4f}\")\n",
    "                    SRs.append(SR)\n",
    "                    turnovers.append(turnover)\n",
    "\n",
    "            avg_SR = np.mean(SRs)\n",
    "            avg_turnover = np.mean(turnovers)\n",
    "            avg_ratio = avg_SR / avg_turnover\n",
    "\n",
    "            if avg_ratio > best_ratio:\n",
    "                best_ratio = avg_ratio\n",
    "                best_params = {\n",
    "                    'model': model,\n",
    "                    'lambda_RP': lambda_RP,\n",
    "                    'lambda_S': lamda_S,\n",
    "                    'z': z,\n",
    "                    'num_periods': num_periods,\n",
    "                    'SR': avg_SR,\n",
    "                    'turnover': avg_turnover\n",
    "                }\n",
    "\n",
    "    # Model 1 (Sharpe)\n",
    "    elif model == 1:\n",
    "        lambda_RP = \"N/A\"\n",
    "        z = \"N/A\"\n",
    "        for lamda_S in [8]:\n",
    "            for num_periods in [36]:\n",
    "                SRs = []\n",
    "                turnovers = []\n",
    "                for file in [[\"MIE377_AssetPrices_3.csv\", \"MIE377_FactorReturns_3.csv\"]]:\n",
    "                    for cal in [3, 5, 8]:\n",
    "                        print(f\"\\nTesting model {model}, lambda_RP={lambda_RP}, lambda_S={lamda_S}, z={z}, num_periods={num_periods}, cal={cal}\")\n",
    "                        SR, turnover = run_strategy(num_periods=num_periods, lambda_RP=None, lamda_S=lamda_S, z=None,\n",
    "                                                    model=model, cal=cal, file_1=file[0], file_2=file[1])\n",
    "                        print(f\"--> SR = {SR:.4f}, Turnover = {turnover:.4f}\")\n",
    "                        SRs.append(SR)\n",
    "                        turnovers.append(turnover)\n",
    "\n",
    "                avg_SR = np.mean(SRs)\n",
    "                avg_turnover = np.mean(turnovers)\n",
    "                avg_ratio = avg_SR / avg_turnover\n",
    "\n",
    "                if avg_ratio > best_ratio:\n",
    "                    best_ratio = avg_ratio\n",
    "                    best_params = {\n",
    "                        'model': model,\n",
    "                        'lambda_RP': lambda_RP,\n",
    "                        'lambda_S': lamda_S,\n",
    "                        'z': z,\n",
    "                        'num_periods': num_periods,\n",
    "                        'SR': avg_SR,\n",
    "                        'turnover': avg_turnover\n",
    "                    }\n",
    "\n",
    "    # Model 2 (Mixed)\n",
    "    elif model == 2:\n",
    "        for lambda_RP in [0.25]:\n",
    "            for lamda_S in [8]:\n",
    "                for z in [0.75]:\n",
    "                    for num_periods in [36]:\n",
    "                        SRs = []\n",
    "                        turnovers = []\n",
    "                        for file in [[\"MIE377_AssetPrices_3.csv\", \"MIE377_FactorReturns_3.csv\"]]:\n",
    "                            for cal in [3,5,8]:\n",
    "                                print(f\"\\nTesting model {model}, lambda_RP={lambda_RP}, lambda_S={lamda_S}, z={z}, num_periods={num_periods}, cal={cal}\")\n",
    "                                SR, turnover = run_strategy(num_periods=num_periods, lambda_RP=lambda_RP,\n",
    "                                                            lamda_S=lamda_S, z=z, model=model, cal=cal,\n",
    "                                                            file_1=file[0], file_2=file[1])\n",
    "                                print(f\"--> SR = {SR:.4f}, Turnover = {turnover:.4f}\")\n",
    "                                SRs.append(SR)\n",
    "                                turnovers.append(turnover)\n",
    "\n",
    "                        avg_SR = np.mean(SRs)\n",
    "                        avg_turnover = np.mean(turnovers)\n",
    "                        avg_ratio = avg_SR / avg_turnover\n",
    "\n",
    "                        if avg_ratio > best_ratio:\n",
    "                            best_ratio = avg_ratio\n",
    "                            best_params = {\n",
    "                                'model': model,\n",
    "                                'lambda_RP': lambda_RP,\n",
    "                                'lambda_S': lamda_S,\n",
    "                                'z': z,\n",
    "                                'num_periods': num_periods,\n",
    "                                'SR': avg_SR,\n",
    "                                'turnover': avg_turnover\n",
    "                            }\n",
    "\n",
    "    best_results[model] = best_params\n",
    "\n",
    "# Prepare data for a nice table\n",
    "table_data = []\n",
    "for model, result in best_results.items():\n",
    "    table_data.append({\n",
    "        'Model': model,\n",
    "        'lambda_RP': result.get('lambda_RP', 'N/A'),\n",
    "        'lambda_S': result.get('lambda_S', 'N/A'),\n",
    "        'z': result.get('z', 'N/A'),\n",
    "        'num_periods': result['num_periods'],\n",
    "        'SR': result['SR'],\n",
    "        'Turnover': result['turnover']\n",
    "    })\n",
    "\n",
    "# Convert to DataFrame for better readability\n",
    "df_results = pd.DataFrame(table_data)\n",
    "\n",
    "# Display the results in a table format\n",
    "print(\"\\nBest Results Summary:\")\n",
    "print(df_results)"
   ]
  }
 ],
 "metadata": {
  "kernelspec": {
   "display_name": "mie377",
   "language": "python",
   "name": "python3"
  },
  "language_info": {
   "codemirror_mode": {
    "name": "ipython",
    "version": 3
   },
   "file_extension": ".py",
   "mimetype": "text/x-python",
   "name": "python",
   "nbconvert_exporter": "python",
   "pygments_lexer": "ipython3",
   "version": "3.10.16"
  }
 },
 "nbformat": 4,
 "nbformat_minor": 0
}
