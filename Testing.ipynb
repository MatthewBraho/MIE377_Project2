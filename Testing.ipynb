{
 "cells": [
  {
   "cell_type": "markdown",
   "metadata": {
    "collapsed": false
   },
   "source": [
    "\n",
    "# MMF1921/MIE377 - Backtesting Template\n",
    "\n",
    "The purpose of this program is to provide a template with which to develop Project 2. The project requires you to test different models  (and/or different model combinations) to create an asset management algorithm.\n",
    "\n",
    "This template will be used by the instructor and TA to assess your trading algorithm using different datasets.\n",
    "\n",
    "# PLEASE DO NOT MODIFY THIS TEMPLATE (for Project submission purposes)\n",
    "\n",
    "# 1. Read input files"
   ]
  },
  {
   "cell_type": "code",
   "execution_count": 1,
   "metadata": {
    "ExecuteTime": {
     "end_time": "2024-03-20T20:29:36.438601400Z",
     "start_time": "2024-03-20T20:29:36.377918500Z"
    },
    "collapsed": false
   },
   "outputs": [],
   "source": [
    "import time\n",
    "import math\n",
    "from scipy.stats import gmean\n",
    "import matplotlib.pyplot as plt\n",
    "from services.project_function import *\n",
    "import pandas as pd\n",
    "\n",
    "adjClose = pd.read_csv(\"MIE377_AssetPrices_3.csv\", index_col=0)\n",
    "factorRet = pd.read_csv(\"MIE377_FactorReturns_3.csv\", index_col=0)"
   ]
  },
  {
   "cell_type": "code",
   "execution_count": 2,
   "metadata": {
    "ExecuteTime": {
     "end_time": "2024-03-20T20:29:36.440587500Z",
     "start_time": "2024-03-20T20:29:36.396917700Z"
    },
    "collapsed": false
   },
   "outputs": [],
   "source": [
    "adjClose.index = pd.to_datetime(adjClose.index)\n",
    "factorRet.index = pd.to_datetime(factorRet.index)"
   ]
  },
  {
   "cell_type": "code",
   "execution_count": 3,
   "metadata": {
    "ExecuteTime": {
     "end_time": "2024-03-20T20:29:36.470358Z",
     "start_time": "2024-03-20T20:29:36.411919Z"
    },
    "collapsed": false
   },
   "outputs": [],
   "source": [
    "# Initial budget to invest ($100,000)\n",
    "initialVal = 100000\n",
    "\n",
    "# Length of investment period (in months)\n",
    "investPeriod = 6\n",
    "\n",
    "# divide the factor returns by  100\n",
    "factorRet = factorRet/100\n",
    "\n",
    "#rf and factor returns\n",
    "riskFree = factorRet['RF']\n",
    "factorRet = factorRet.loc[:,factorRet.columns != 'RF'];\n"
   ]
  },
  {
   "cell_type": "code",
   "execution_count": 4,
   "metadata": {
    "ExecuteTime": {
     "end_time": "2024-03-20T20:29:36.473235900Z",
     "start_time": "2024-03-20T20:29:36.426396Z"
    },
    "collapsed": false
   },
   "outputs": [],
   "source": [
    "#Identify the tickers and the dates\n",
    "tickers = adjClose.columns\n",
    "dates   = factorRet.index"
   ]
  },
  {
   "cell_type": "code",
   "execution_count": 5,
   "metadata": {
    "ExecuteTime": {
     "end_time": "2024-03-20T20:29:36.474236800Z",
     "start_time": "2024-03-20T20:29:36.442586800Z"
    },
    "collapsed": false
   },
   "outputs": [],
   "source": [
    "# Calculate the stocks monthly excess returns\n",
    "# pct change and drop the first null observation\n",
    "returns = adjClose.pct_change(1).iloc[1:, :]\n",
    "returns = returns  - np.diag(riskFree.values) @ np.ones_like(returns.values)\n",
    "# Align the price table to the asset and factor returns tables by discarding the first observation.\n",
    "adjClose = adjClose.iloc[1:,:]"
   ]
  },
  {
   "cell_type": "code",
   "execution_count": 6,
   "metadata": {
    "ExecuteTime": {
     "end_time": "2024-03-20T20:29:36.487236200Z",
     "start_time": "2024-03-20T20:29:36.458587500Z"
    },
    "collapsed": false
   },
   "outputs": [],
   "source": [
    "assert adjClose.index[0] == returns.index[0]\n",
    "assert adjClose.index[0] == factorRet.index[0]"
   ]
  },
  {
   "cell_type": "code",
   "execution_count": 7,
   "metadata": {},
   "outputs": [],
   "source": [
    "adjClose = pd.read_csv(\"MIE377_AssetPrices_2.csv\", index_col=0)\n",
    "factorRet = pd.read_csv(\"MIE377_FactorReturns_2.csv\", index_col=0)\n",
    "\n",
    "adjClose.index = pd.to_datetime(adjClose.index)\n",
    "factorRet.index = pd.to_datetime(factorRet.index)\n",
    "\n",
    "# Initial budget to invest ($100,000)\n",
    "initialVal = 100000\n",
    "\n",
    "# Length of investment period (in months)\n",
    "investPeriod = 6\n",
    "\n",
    "# divide the factor returns by  100\n",
    "factorRet = factorRet/100\n",
    "\n",
    "#rf and factor returns\n",
    "riskFree = factorRet['RF']\n",
    "factorRet = factorRet.loc[:,factorRet.columns != 'RF'];\n",
    "\n",
    "#Identify the tickers and the dates\n",
    "tickers = adjClose.columns\n",
    "dates   = factorRet.index\n",
    "\n",
    "# Calculate the stocks monthly excess returns\n",
    "# pct change and drop the first null observation\n",
    "returns = adjClose.pct_change(1).iloc[1:, :]\n",
    "returns = returns  - np.diag(riskFree.values) @ np.ones_like(returns.values)\n",
    "# Align the price table to the asset and factor returns tables by discarding the first observation.\n",
    "adjClose = adjClose.iloc[1:,:]\n",
    "\n",
    "assert adjClose.index[0] == returns.index[0]\n",
    "assert adjClose.index[0] == factorRet.index[0]\n"
   ]
  },
  {
   "cell_type": "markdown",
   "metadata": {
    "collapsed": false
   },
   "source": [
    "# 3. Results"
   ]
  },
  {
   "cell_type": "code",
   "execution_count": 8,
   "metadata": {},
   "outputs": [],
   "source": [
    "def run_strategy(num_periods,lambda_RP, lamda_S, z, model, cal, file_1, file_2):\n",
    "\n",
    "    adjClose = pd.read_csv(file_1, index_col=0)\n",
    "    factorRet = pd.read_csv(file_2, index_col=0)\n",
    "\n",
    "    adjClose.index = pd.to_datetime(adjClose.index)\n",
    "    factorRet.index = pd.to_datetime(factorRet.index)\n",
    "\n",
    "    # Initial budget to invest ($100,000)\n",
    "    initialVal = 100000\n",
    "\n",
    "    # Length of investment period (in months)\n",
    "    investPeriod = 6\n",
    "\n",
    "    # divide the factor returns by  100\n",
    "    factorRet = factorRet/100\n",
    "\n",
    "    #rf and factor returns\n",
    "    riskFree = factorRet['RF']\n",
    "    factorRet = factorRet.loc[:,factorRet.columns != 'RF'];\n",
    "\n",
    "    #Identify the tickers and the dates\n",
    "    tickers = adjClose.columns\n",
    "    dates   = factorRet.index\n",
    "\n",
    "    # Calculate the stocks monthly excess returns\n",
    "    # pct change and drop the first null observation\n",
    "    returns = adjClose.pct_change(1).iloc[1:, :]\n",
    "    returns = returns  - np.diag(riskFree.values) @ np.ones_like(returns.values)\n",
    "    # Align the price table to the asset and factor returns tables by discarding the first observation.\n",
    "    adjClose = adjClose.iloc[1:,:]\n",
    "\n",
    "    assert adjClose.index[0] == returns.index[0]\n",
    "    assert adjClose.index[0] == factorRet.index[0]\n",
    "\n",
    "\n",
    "\n",
    "    testStart = returns.index[0] + pd.offsets.DateOffset(years=cal)\n",
    "    investPeriod = 5\n",
    "    testEnd = testStart + pd.offsets.DateOffset(months=investPeriod) - pd.offsets.DateOffset(days=1)\n",
    "    calEnd = testStart - pd.offsets.DateOffset(days=1)\n",
    "\n",
    "    NoPeriods = math.ceil((returns.index[-1].to_period('M') - testStart.to_period('M')).n / investPeriod)\n",
    "    n = len(tickers)\n",
    "\n",
    "    x = np.zeros([n, NoPeriods])\n",
    "    x0 = np.zeros([n, NoPeriods])\n",
    "    currentVal = np.zeros([NoPeriods, 1])\n",
    "    turnover = np.zeros([NoPeriods, 1])\n",
    "    toDay = 0\n",
    "    portfValue = []\n",
    "\n",
    "    for t in range(NoPeriods):\n",
    "        periodReturns = returns[returns.index <= calEnd]\n",
    "        periodFactRet = factorRet[factorRet.index <= calEnd]\n",
    "\n",
    "        current_price_idx = (calEnd - pd.offsets.DateOffset(months=1) <= adjClose.index)&(adjClose.index <= calEnd)\n",
    "        currentPrices = adjClose[current_price_idx]\n",
    "\n",
    "        periodPrices_idx = (testStart <= adjClose.index)&(adjClose.index <= testEnd)\n",
    "        periodPrices = adjClose[periodPrices_idx]\n",
    "\n",
    "        if len(periodPrices) != investPeriod or len(currentPrices) != 1:\n",
    "            break  # Skip this period if data is missing\n",
    "\n",
    "        if t == 0:\n",
    "            currentVal[0] = initialVal\n",
    "        else:\n",
    "            currentVal[t] = currentPrices @ NoShares.values.T\n",
    "            x0[:,t] = currentPrices.values * NoShares.values / currentVal[t]\n",
    "\n",
    "        x[:,t] = grid_search_function(periodReturns, periodFactRet, num_periods,lambda_RP, lamda_S, z, model)\n",
    "\n",
    "        if t > 0:\n",
    "            turnover[t] = np.sum(np.abs(x[:,t] - x0[:,t]))\n",
    "\n",
    "        NoShares = x[:,t] * currentVal[t] / currentPrices\n",
    "\n",
    "        fromDay = toDay\n",
    "        toDay = toDay + len(periodPrices)\n",
    "\n",
    "        portfValue.append(periodPrices @ NoShares.values.T)\n",
    "\n",
    "        testStart = testStart + pd.offsets.DateOffset(months=investPeriod)\n",
    "        testEnd = testStart + pd.offsets.DateOffset(months=investPeriod) - pd.offsets.DateOffset(days=1)\n",
    "        calEnd = testStart - pd.offsets.DateOffset(days=1)\n",
    "\n",
    "    if len(portfValue) == 0:\n",
    "        return -np.inf, np.nan  # Invalid run\n",
    "\n",
    "    portfValue = pd.concat(portfValue, axis=0)\n",
    "    portfRets = portfValue.pct_change(1).iloc[1:,:]\n",
    "    portfExRets = portfRets.subtract(riskFree[(riskFree.index >= portfRets.index[0]) & (riskFree.index <= portfRets.index[-1])], axis=0)\n",
    "\n",
    "    SR = ((portfExRets + 1).apply(gmean, axis=0) - 1) / portfExRets.std()\n",
    "    avgTurnover = np.mean(turnover[1:])\n",
    "\n",
    "    return SR[0], avgTurnover\n"
   ]
  },
  {
   "cell_type": "code",
   "execution_count": null,
   "metadata": {},
   "outputs": [
    {
     "name": "stdout",
     "output_type": "stream",
     "text": [
      "\n",
      "Testing model 0, lambda_RP=0.75, lambda_S=N/A, z=N/A, num_periods=30, cal=3\n",
      "--> SR = 0.2105, Turnover = 0.1099\n",
      "\n",
      "Testing model 1, lambda_RP=N/A, lambda_S=8, z=N/A, num_periods=30, cal=3\n",
      "--> SR = 0.2398, Turnover = 0.3736\n",
      "\n",
      "Testing model 1, lambda_RP=N/A, lambda_S=8, z=N/A, num_periods=30, cal=5\n",
      "--> SR = 0.1797, Turnover = 0.3896\n",
      "\n",
      "Testing model 1, lambda_RP=N/A, lambda_S=8, z=N/A, num_periods=30, cal=8\n"
     ]
    },
    {
     "ename": "KeyboardInterrupt",
     "evalue": "",
     "output_type": "error",
     "traceback": [
      "\u001b[0;31m---------------------------------------------------------------------------\u001b[0m",
      "\u001b[0;31mKeyboardInterrupt\u001b[0m                         Traceback (most recent call last)",
      "Cell \u001b[0;32mIn[9], line 50\u001b[0m\n\u001b[1;32m     48\u001b[0m \u001b[38;5;28;01mfor\u001b[39;00m cal \u001b[38;5;129;01min\u001b[39;00m [\u001b[38;5;241m3\u001b[39m, \u001b[38;5;241m5\u001b[39m, \u001b[38;5;241m8\u001b[39m]:\n\u001b[1;32m     49\u001b[0m     \u001b[38;5;28mprint\u001b[39m(\u001b[38;5;124mf\u001b[39m\u001b[38;5;124m\"\u001b[39m\u001b[38;5;130;01m\\n\u001b[39;00m\u001b[38;5;124mTesting model \u001b[39m\u001b[38;5;132;01m{\u001b[39;00mmodel\u001b[38;5;132;01m}\u001b[39;00m\u001b[38;5;124m, lambda_RP=\u001b[39m\u001b[38;5;132;01m{\u001b[39;00mlambda_RP\u001b[38;5;132;01m}\u001b[39;00m\u001b[38;5;124m, lambda_S=\u001b[39m\u001b[38;5;132;01m{\u001b[39;00mlamda_S\u001b[38;5;132;01m}\u001b[39;00m\u001b[38;5;124m, z=\u001b[39m\u001b[38;5;132;01m{\u001b[39;00mz\u001b[38;5;132;01m}\u001b[39;00m\u001b[38;5;124m, num_periods=\u001b[39m\u001b[38;5;132;01m{\u001b[39;00mnum_periods\u001b[38;5;132;01m}\u001b[39;00m\u001b[38;5;124m, cal=\u001b[39m\u001b[38;5;132;01m{\u001b[39;00mcal\u001b[38;5;132;01m}\u001b[39;00m\u001b[38;5;124m\"\u001b[39m)\n\u001b[0;32m---> 50\u001b[0m     SR, turnover \u001b[38;5;241m=\u001b[39m \u001b[43mrun_strategy\u001b[49m\u001b[43m(\u001b[49m\u001b[43mnum_periods\u001b[49m\u001b[38;5;241;43m=\u001b[39;49m\u001b[43mnum_periods\u001b[49m\u001b[43m,\u001b[49m\u001b[43m \u001b[49m\u001b[43mlambda_RP\u001b[49m\u001b[38;5;241;43m=\u001b[39;49m\u001b[38;5;28;43;01mNone\u001b[39;49;00m\u001b[43m,\u001b[49m\u001b[43m \u001b[49m\u001b[43mlamda_S\u001b[49m\u001b[38;5;241;43m=\u001b[39;49m\u001b[43mlamda_S\u001b[49m\u001b[43m,\u001b[49m\u001b[43m \u001b[49m\u001b[43mz\u001b[49m\u001b[38;5;241;43m=\u001b[39;49m\u001b[38;5;28;43;01mNone\u001b[39;49;00m\u001b[43m,\u001b[49m\n\u001b[1;32m     51\u001b[0m \u001b[43m                                \u001b[49m\u001b[43mmodel\u001b[49m\u001b[38;5;241;43m=\u001b[39;49m\u001b[43mmodel\u001b[49m\u001b[43m,\u001b[49m\u001b[43m \u001b[49m\u001b[43mcal\u001b[49m\u001b[38;5;241;43m=\u001b[39;49m\u001b[43mcal\u001b[49m\u001b[43m,\u001b[49m\u001b[43m \u001b[49m\u001b[43mfile_1\u001b[49m\u001b[38;5;241;43m=\u001b[39;49m\u001b[43mfile\u001b[49m\u001b[43m[\u001b[49m\u001b[38;5;241;43m0\u001b[39;49m\u001b[43m]\u001b[49m\u001b[43m,\u001b[49m\u001b[43m \u001b[49m\u001b[43mfile_2\u001b[49m\u001b[38;5;241;43m=\u001b[39;49m\u001b[43mfile\u001b[49m\u001b[43m[\u001b[49m\u001b[38;5;241;43m1\u001b[39;49m\u001b[43m]\u001b[49m\u001b[43m)\u001b[49m\n\u001b[1;32m     52\u001b[0m     \u001b[38;5;28mprint\u001b[39m(\u001b[38;5;124mf\u001b[39m\u001b[38;5;124m\"\u001b[39m\u001b[38;5;124m--> SR = \u001b[39m\u001b[38;5;132;01m{\u001b[39;00mSR\u001b[38;5;132;01m:\u001b[39;00m\u001b[38;5;124m.4f\u001b[39m\u001b[38;5;132;01m}\u001b[39;00m\u001b[38;5;124m, Turnover = \u001b[39m\u001b[38;5;132;01m{\u001b[39;00mturnover\u001b[38;5;132;01m:\u001b[39;00m\u001b[38;5;124m.4f\u001b[39m\u001b[38;5;132;01m}\u001b[39;00m\u001b[38;5;124m\"\u001b[39m)\n\u001b[1;32m     53\u001b[0m     SRs\u001b[38;5;241m.\u001b[39mappend(SR)\n",
      "Cell \u001b[0;32mIn[8], line 72\u001b[0m, in \u001b[0;36mrun_strategy\u001b[0;34m(num_periods, lambda_RP, lamda_S, z, model, cal, file_1, file_2)\u001b[0m\n\u001b[1;32m     69\u001b[0m     currentVal[t] \u001b[38;5;241m=\u001b[39m currentPrices \u001b[38;5;241m@\u001b[39m NoShares\u001b[38;5;241m.\u001b[39mvalues\u001b[38;5;241m.\u001b[39mT\n\u001b[1;32m     70\u001b[0m     x0[:,t] \u001b[38;5;241m=\u001b[39m currentPrices\u001b[38;5;241m.\u001b[39mvalues \u001b[38;5;241m*\u001b[39m NoShares\u001b[38;5;241m.\u001b[39mvalues \u001b[38;5;241m/\u001b[39m currentVal[t]\n\u001b[0;32m---> 72\u001b[0m x[:,t] \u001b[38;5;241m=\u001b[39m \u001b[43mgrid_search_function\u001b[49m\u001b[43m(\u001b[49m\u001b[43mperiodReturns\u001b[49m\u001b[43m,\u001b[49m\u001b[43m \u001b[49m\u001b[43mperiodFactRet\u001b[49m\u001b[43m,\u001b[49m\u001b[43m \u001b[49m\u001b[43mnum_periods\u001b[49m\u001b[43m,\u001b[49m\u001b[43mlambda_RP\u001b[49m\u001b[43m,\u001b[49m\u001b[43m \u001b[49m\u001b[43mlamda_S\u001b[49m\u001b[43m,\u001b[49m\u001b[43m \u001b[49m\u001b[43mz\u001b[49m\u001b[43m,\u001b[49m\u001b[43m \u001b[49m\u001b[43mmodel\u001b[49m\u001b[43m)\u001b[49m\n\u001b[1;32m     74\u001b[0m \u001b[38;5;28;01mif\u001b[39;00m t \u001b[38;5;241m>\u001b[39m \u001b[38;5;241m0\u001b[39m:\n\u001b[1;32m     75\u001b[0m     turnover[t] \u001b[38;5;241m=\u001b[39m np\u001b[38;5;241m.\u001b[39msum(np\u001b[38;5;241m.\u001b[39mabs(x[:,t] \u001b[38;5;241m-\u001b[39m x0[:,t]))\n",
      "File \u001b[0;32m~/Projects/MIE377_Project2/services/project_function.py:33\u001b[0m, in \u001b[0;36mgrid_search_function\u001b[0;34m(periodReturns, periodFactRet, num_periods, lambda_RP, lamda_S, z, model)\u001b[0m\n\u001b[1;32m     30\u001b[0m Strategy \u001b[38;5;241m=\u001b[39m grid_search(num_periods)\n\u001b[1;32m     32\u001b[0m \u001b[38;5;66;03m# Executre Grid Search Stratagy that returns porfolio weights\u001b[39;00m\n\u001b[0;32m---> 33\u001b[0m x \u001b[38;5;241m=\u001b[39m \u001b[43mStrategy\u001b[49m\u001b[38;5;241;43m.\u001b[39;49m\u001b[43mexecute_grid\u001b[49m\u001b[43m(\u001b[49m\u001b[43mperiodReturns\u001b[49m\u001b[43m,\u001b[49m\u001b[43m \u001b[49m\u001b[43mperiodFactRet\u001b[49m\u001b[43m,\u001b[49m\u001b[43m \u001b[49m\u001b[43mnum_periods\u001b[49m\u001b[43m,\u001b[49m\u001b[43m \u001b[49m\u001b[43mlambda_RP\u001b[49m\u001b[43m,\u001b[49m\u001b[43m \u001b[49m\u001b[43mlamda_S\u001b[49m\u001b[43m,\u001b[49m\u001b[43m \u001b[49m\u001b[43mz\u001b[49m\u001b[43m,\u001b[49m\u001b[43m \u001b[49m\u001b[43mmodel\u001b[49m\u001b[43m)\u001b[49m\n\u001b[1;32m     34\u001b[0m \u001b[38;5;28;01mreturn\u001b[39;00m x\n",
      "File \u001b[0;32m~/Projects/MIE377_Project2/services/strategies.py:141\u001b[0m, in \u001b[0;36mgrid_search.execute_grid\u001b[0;34m(self, periodReturns, factorReturns, num_periods, lambda_RP, lamda_S, z, model)\u001b[0m\n\u001b[1;32m    138\u001b[0m mu, Q\u001b[38;5;241m=\u001b[39m LASSO_CV(returns, factRet)\n\u001b[1;32m    140\u001b[0m \u001b[38;5;66;03m# Solve Robust MVO (Keep gamma at 0.1 found to be optimal)\u001b[39;00m\n\u001b[0;32m--> 141\u001b[0m x \u001b[38;5;241m=\u001b[39m \u001b[43mgrid_optimization\u001b[49m\u001b[43m(\u001b[49m\u001b[43mmu\u001b[49m\u001b[43m,\u001b[49m\u001b[43m \u001b[49m\u001b[43mQ\u001b[49m\u001b[43m,\u001b[49m\u001b[43m \u001b[49m\u001b[43mn\u001b[49m\u001b[43m,\u001b[49m\u001b[43m \u001b[49m\u001b[43mlambda_RP\u001b[49m\u001b[43m,\u001b[49m\u001b[43m \u001b[49m\u001b[43mlamda_S\u001b[49m\u001b[43m,\u001b[49m\u001b[43m \u001b[49m\u001b[43mz\u001b[49m\u001b[43m,\u001b[49m\u001b[43m \u001b[49m\u001b[43mmodel\u001b[49m\u001b[43m)\u001b[49m\n\u001b[1;32m    143\u001b[0m \u001b[38;5;28;01mreturn\u001b[39;00m x\n",
      "File \u001b[0;32m~/Projects/MIE377_Project2/services/optimization.py:208\u001b[0m, in \u001b[0;36mgrid_optimization\u001b[0;34m(mu, Q, n, lamda_RP, lamda_S, z, model)\u001b[0m\n\u001b[1;32m    205\u001b[0m     \u001b[38;5;28;01mreturn\u001b[39;00m RiskParity_turnover(Q, n, lamda_RP)\n\u001b[1;32m    206\u001b[0m \u001b[38;5;28;01melif\u001b[39;00m model \u001b[38;5;241m==\u001b[39m \u001b[38;5;241m1\u001b[39m:\n\u001b[1;32m    207\u001b[0m     \u001b[38;5;66;03m# Loop through lambda 0, 0.25, 0.5, 0.75, 1, 1.25, 1.5, 1.75, 2\u001b[39;00m\n\u001b[0;32m--> 208\u001b[0m     \u001b[38;5;28;01mreturn\u001b[39;00m \u001b[43mSharpe_turnover\u001b[49m\u001b[43m(\u001b[49m\u001b[43mmu\u001b[49m\u001b[43m,\u001b[49m\u001b[43m \u001b[49m\u001b[43mQ\u001b[49m\u001b[43m,\u001b[49m\u001b[43m \u001b[49m\u001b[43mn\u001b[49m\u001b[43m,\u001b[49m\u001b[43m \u001b[49m\u001b[43mlamda_S\u001b[49m\u001b[43m)\u001b[49m\n\u001b[1;32m    209\u001b[0m \u001b[38;5;28;01melif\u001b[39;00m model \u001b[38;5;241m==\u001b[39m \u001b[38;5;241m2\u001b[39m:\n\u001b[1;32m    210\u001b[0m     \u001b[38;5;66;03m# Loop through lamda_RP 0, 0.25, 0.5, 0.75, 1, 1.25, 1.5, 1.75, 2\u001b[39;00m\n\u001b[1;32m    211\u001b[0m     \u001b[38;5;66;03m# Loop through lamda_S 10,12.5, 15, 17.5, 20\u001b[39;00m\n\u001b[1;32m    212\u001b[0m     \u001b[38;5;66;03m# z = 0.25, 0.5, 0.75\u001b[39;00m\n\u001b[1;32m    213\u001b[0m     \u001b[38;5;28;01mreturn\u001b[39;00m mix_method(z, mu, Q, n)\n",
      "File \u001b[0;32m~/Projects/MIE377_Project2/services/optimization.py:184\u001b[0m, in \u001b[0;36mSharpe_turnover\u001b[0;34m(mu, Q, n, lamda, alpha)\u001b[0m\n\u001b[1;32m    181\u001b[0m prob\u001b[38;5;241m.\u001b[39msolve(verbose\u001b[38;5;241m=\u001b[39m\u001b[38;5;28;01mFalse\u001b[39;00m)\n\u001b[1;32m    183\u001b[0m \u001b[38;5;28;01mif\u001b[39;00m prob\u001b[38;5;241m.\u001b[39mstatus \u001b[38;5;129;01mnot\u001b[39;00m \u001b[38;5;129;01min\u001b[39;00m [cp\u001b[38;5;241m.\u001b[39mOPTIMAL, cp\u001b[38;5;241m.\u001b[39mOPTIMAL_INACCURATE]:\n\u001b[0;32m--> 184\u001b[0m     \u001b[38;5;28;01mreturn\u001b[39;00m \u001b[43mSharpe_turnover\u001b[49m\u001b[43m(\u001b[49m\u001b[43mmu\u001b[49m\u001b[43m,\u001b[49m\u001b[43m \u001b[49m\u001b[43mQ\u001b[49m\u001b[43m,\u001b[49m\u001b[43mn\u001b[49m\u001b[43m,\u001b[49m\u001b[43m \u001b[49m\u001b[43mlamda\u001b[49m\u001b[43m,\u001b[49m\u001b[43m \u001b[49m\u001b[43malpha\u001b[49m\u001b[38;5;241;43m*\u001b[39;49m\u001b[38;5;241;43m0.9\u001b[39;49m\u001b[43m)\u001b[49m\n\u001b[1;32m    186\u001b[0m \u001b[38;5;28;01mreturn\u001b[39;00m y\u001b[38;5;241m.\u001b[39mvalue\u001b[38;5;241m/\u001b[39m\u001b[38;5;28msum\u001b[39m(y\u001b[38;5;241m.\u001b[39mvalue)\n",
      "File \u001b[0;32m~/Projects/MIE377_Project2/services/optimization.py:184\u001b[0m, in \u001b[0;36mSharpe_turnover\u001b[0;34m(mu, Q, n, lamda, alpha)\u001b[0m\n\u001b[1;32m    181\u001b[0m prob\u001b[38;5;241m.\u001b[39msolve(verbose\u001b[38;5;241m=\u001b[39m\u001b[38;5;28;01mFalse\u001b[39;00m)\n\u001b[1;32m    183\u001b[0m \u001b[38;5;28;01mif\u001b[39;00m prob\u001b[38;5;241m.\u001b[39mstatus \u001b[38;5;129;01mnot\u001b[39;00m \u001b[38;5;129;01min\u001b[39;00m [cp\u001b[38;5;241m.\u001b[39mOPTIMAL, cp\u001b[38;5;241m.\u001b[39mOPTIMAL_INACCURATE]:\n\u001b[0;32m--> 184\u001b[0m     \u001b[38;5;28;01mreturn\u001b[39;00m \u001b[43mSharpe_turnover\u001b[49m\u001b[43m(\u001b[49m\u001b[43mmu\u001b[49m\u001b[43m,\u001b[49m\u001b[43m \u001b[49m\u001b[43mQ\u001b[49m\u001b[43m,\u001b[49m\u001b[43mn\u001b[49m\u001b[43m,\u001b[49m\u001b[43m \u001b[49m\u001b[43mlamda\u001b[49m\u001b[43m,\u001b[49m\u001b[43m \u001b[49m\u001b[43malpha\u001b[49m\u001b[38;5;241;43m*\u001b[39;49m\u001b[38;5;241;43m0.9\u001b[39;49m\u001b[43m)\u001b[49m\n\u001b[1;32m    186\u001b[0m \u001b[38;5;28;01mreturn\u001b[39;00m y\u001b[38;5;241m.\u001b[39mvalue\u001b[38;5;241m/\u001b[39m\u001b[38;5;28msum\u001b[39m(y\u001b[38;5;241m.\u001b[39mvalue)\n",
      "    \u001b[0;31m[... skipping similar frames: Sharpe_turnover at line 184 (43 times)]\u001b[0m\n",
      "File \u001b[0;32m~/Projects/MIE377_Project2/services/optimization.py:184\u001b[0m, in \u001b[0;36mSharpe_turnover\u001b[0;34m(mu, Q, n, lamda, alpha)\u001b[0m\n\u001b[1;32m    181\u001b[0m prob\u001b[38;5;241m.\u001b[39msolve(verbose\u001b[38;5;241m=\u001b[39m\u001b[38;5;28;01mFalse\u001b[39;00m)\n\u001b[1;32m    183\u001b[0m \u001b[38;5;28;01mif\u001b[39;00m prob\u001b[38;5;241m.\u001b[39mstatus \u001b[38;5;129;01mnot\u001b[39;00m \u001b[38;5;129;01min\u001b[39;00m [cp\u001b[38;5;241m.\u001b[39mOPTIMAL, cp\u001b[38;5;241m.\u001b[39mOPTIMAL_INACCURATE]:\n\u001b[0;32m--> 184\u001b[0m     \u001b[38;5;28;01mreturn\u001b[39;00m \u001b[43mSharpe_turnover\u001b[49m\u001b[43m(\u001b[49m\u001b[43mmu\u001b[49m\u001b[43m,\u001b[49m\u001b[43m \u001b[49m\u001b[43mQ\u001b[49m\u001b[43m,\u001b[49m\u001b[43mn\u001b[49m\u001b[43m,\u001b[49m\u001b[43m \u001b[49m\u001b[43mlamda\u001b[49m\u001b[43m,\u001b[49m\u001b[43m \u001b[49m\u001b[43malpha\u001b[49m\u001b[38;5;241;43m*\u001b[39;49m\u001b[38;5;241;43m0.9\u001b[39;49m\u001b[43m)\u001b[49m\n\u001b[1;32m    186\u001b[0m \u001b[38;5;28;01mreturn\u001b[39;00m y\u001b[38;5;241m.\u001b[39mvalue\u001b[38;5;241m/\u001b[39m\u001b[38;5;28msum\u001b[39m(y\u001b[38;5;241m.\u001b[39mvalue)\n",
      "File \u001b[0;32m~/Projects/MIE377_Project2/services/optimization.py:181\u001b[0m, in \u001b[0;36mSharpe_turnover\u001b[0;34m(mu, Q, n, lamda, alpha)\u001b[0m\n\u001b[1;32m    176\u001b[0m constraints \u001b[38;5;241m=\u001b[39m [\n\u001b[1;32m    177\u001b[0m     (mu)\u001b[38;5;241m.\u001b[39mT\u001b[38;5;129m@y\u001b[39m \u001b[38;5;241m-\u001b[39m epsilon \u001b[38;5;241m*\u001b[39m cp\u001b[38;5;241m.\u001b[39mnorm(cp\u001b[38;5;241m.\u001b[39mmultiply(theta, y), \u001b[38;5;241m2\u001b[39m) \u001b[38;5;241m>\u001b[39m\u001b[38;5;241m=\u001b[39m \u001b[38;5;241m1\u001b[39m, \n\u001b[1;32m    178\u001b[0m     y\u001b[38;5;241m>\u001b[39m\u001b[38;5;241m=\u001b[39m \u001b[38;5;241m0\u001b[39m    ]\n\u001b[1;32m    180\u001b[0m prob \u001b[38;5;241m=\u001b[39m cp\u001b[38;5;241m.\u001b[39mProblem(objective, constraints)\n\u001b[0;32m--> 181\u001b[0m \u001b[43mprob\u001b[49m\u001b[38;5;241;43m.\u001b[39;49m\u001b[43msolve\u001b[49m\u001b[43m(\u001b[49m\u001b[43mverbose\u001b[49m\u001b[38;5;241;43m=\u001b[39;49m\u001b[38;5;28;43;01mFalse\u001b[39;49;00m\u001b[43m)\u001b[49m\n\u001b[1;32m    183\u001b[0m \u001b[38;5;28;01mif\u001b[39;00m prob\u001b[38;5;241m.\u001b[39mstatus \u001b[38;5;129;01mnot\u001b[39;00m \u001b[38;5;129;01min\u001b[39;00m [cp\u001b[38;5;241m.\u001b[39mOPTIMAL, cp\u001b[38;5;241m.\u001b[39mOPTIMAL_INACCURATE]:\n\u001b[1;32m    184\u001b[0m     \u001b[38;5;28;01mreturn\u001b[39;00m Sharpe_turnover(mu, Q,n, lamda, alpha\u001b[38;5;241m*\u001b[39m\u001b[38;5;241m0.9\u001b[39m)\n",
      "File \u001b[0;32m/opt/anaconda3/envs/mie377/lib/python3.10/site-packages/cvxpy/problems/problem.py:503\u001b[0m, in \u001b[0;36mProblem.solve\u001b[0;34m(self, *args, **kwargs)\u001b[0m\n\u001b[1;32m    501\u001b[0m \u001b[38;5;28;01melse\u001b[39;00m:\n\u001b[1;32m    502\u001b[0m     solve_func \u001b[38;5;241m=\u001b[39m Problem\u001b[38;5;241m.\u001b[39m_solve\n\u001b[0;32m--> 503\u001b[0m \u001b[38;5;28;01mreturn\u001b[39;00m \u001b[43msolve_func\u001b[49m\u001b[43m(\u001b[49m\u001b[38;5;28;43mself\u001b[39;49m\u001b[43m,\u001b[49m\u001b[43m \u001b[49m\u001b[38;5;241;43m*\u001b[39;49m\u001b[43margs\u001b[49m\u001b[43m,\u001b[49m\u001b[43m \u001b[49m\u001b[38;5;241;43m*\u001b[39;49m\u001b[38;5;241;43m*\u001b[39;49m\u001b[43mkwargs\u001b[49m\u001b[43m)\u001b[49m\n",
      "File \u001b[0;32m/opt/anaconda3/envs/mie377/lib/python3.10/site-packages/cvxpy/problems/problem.py:1073\u001b[0m, in \u001b[0;36mProblem._solve\u001b[0;34m(self, solver, warm_start, verbose, gp, qcp, requires_grad, enforce_dpp, ignore_dpp, canon_backend, **kwargs)\u001b[0m\n\u001b[1;32m   1070\u001b[0m         \u001b[38;5;28mself\u001b[39m\u001b[38;5;241m.\u001b[39munpack(chain\u001b[38;5;241m.\u001b[39mretrieve(soln))\n\u001b[1;32m   1071\u001b[0m         \u001b[38;5;28;01mreturn\u001b[39;00m \u001b[38;5;28mself\u001b[39m\u001b[38;5;241m.\u001b[39mvalue\n\u001b[0;32m-> 1073\u001b[0m data, solving_chain, inverse_data \u001b[38;5;241m=\u001b[39m \u001b[38;5;28;43mself\u001b[39;49m\u001b[38;5;241;43m.\u001b[39;49m\u001b[43mget_problem_data\u001b[49m\u001b[43m(\u001b[49m\n\u001b[1;32m   1074\u001b[0m \u001b[43m    \u001b[49m\u001b[43msolver\u001b[49m\u001b[43m,\u001b[49m\u001b[43m \u001b[49m\u001b[43mgp\u001b[49m\u001b[43m,\u001b[49m\u001b[43m \u001b[49m\u001b[43menforce_dpp\u001b[49m\u001b[43m,\u001b[49m\u001b[43m \u001b[49m\u001b[43mignore_dpp\u001b[49m\u001b[43m,\u001b[49m\u001b[43m \u001b[49m\u001b[43mverbose\u001b[49m\u001b[43m,\u001b[49m\u001b[43m \u001b[49m\u001b[43mcanon_backend\u001b[49m\u001b[43m,\u001b[49m\u001b[43m \u001b[49m\u001b[43mkwargs\u001b[49m\n\u001b[1;32m   1075\u001b[0m \u001b[43m\u001b[49m\u001b[43m)\u001b[49m\n\u001b[1;32m   1077\u001b[0m \u001b[38;5;28;01mif\u001b[39;00m verbose:\n\u001b[1;32m   1078\u001b[0m     \u001b[38;5;28mprint\u001b[39m(_NUM_SOLVER_STR)\n",
      "File \u001b[0;32m/opt/anaconda3/envs/mie377/lib/python3.10/site-packages/cvxpy/problems/problem.py:696\u001b[0m, in \u001b[0;36mProblem.get_problem_data\u001b[0;34m(self, solver, gp, enforce_dpp, ignore_dpp, verbose, canon_backend, solver_opts)\u001b[0m\n\u001b[1;32m    693\u001b[0m     s\u001b[38;5;241m.\u001b[39mLOGGER\u001b[38;5;241m.\u001b[39minfo(\n\u001b[1;32m    694\u001b[0m              \u001b[38;5;124m'\u001b[39m\u001b[38;5;124mCompiling problem (target solver=\u001b[39m\u001b[38;5;132;01m%s\u001b[39;00m\u001b[38;5;124m).\u001b[39m\u001b[38;5;124m'\u001b[39m, solver_name)\n\u001b[1;32m    695\u001b[0m     s\u001b[38;5;241m.\u001b[39mLOGGER\u001b[38;5;241m.\u001b[39minfo(\u001b[38;5;124m'\u001b[39m\u001b[38;5;124mReduction chain: \u001b[39m\u001b[38;5;132;01m%s\u001b[39;00m\u001b[38;5;124m'\u001b[39m, reduction_chain_str)\n\u001b[0;32m--> 696\u001b[0m data, inverse_data \u001b[38;5;241m=\u001b[39m \u001b[43msolving_chain\u001b[49m\u001b[38;5;241;43m.\u001b[39;49m\u001b[43mapply\u001b[49m\u001b[43m(\u001b[49m\u001b[38;5;28;43mself\u001b[39;49m\u001b[43m,\u001b[49m\u001b[43m \u001b[49m\u001b[43mverbose\u001b[49m\u001b[43m)\u001b[49m\n\u001b[1;32m    697\u001b[0m safe_to_cache \u001b[38;5;241m=\u001b[39m (\n\u001b[1;32m    698\u001b[0m     \u001b[38;5;28misinstance\u001b[39m(data, \u001b[38;5;28mdict\u001b[39m)\n\u001b[1;32m    699\u001b[0m     \u001b[38;5;129;01mand\u001b[39;00m s\u001b[38;5;241m.\u001b[39mPARAM_PROB \u001b[38;5;129;01min\u001b[39;00m data\n\u001b[1;32m    700\u001b[0m     \u001b[38;5;129;01mand\u001b[39;00m \u001b[38;5;129;01mnot\u001b[39;00m \u001b[38;5;28many\u001b[39m(\u001b[38;5;28misinstance\u001b[39m(reduction, EvalParams)\n\u001b[1;32m    701\u001b[0m                 \u001b[38;5;28;01mfor\u001b[39;00m reduction \u001b[38;5;129;01min\u001b[39;00m solving_chain\u001b[38;5;241m.\u001b[39mreductions)\n\u001b[1;32m    702\u001b[0m )\n\u001b[1;32m    703\u001b[0m \u001b[38;5;28mself\u001b[39m\u001b[38;5;241m.\u001b[39m_compilation_time \u001b[38;5;241m=\u001b[39m time\u001b[38;5;241m.\u001b[39mtime() \u001b[38;5;241m-\u001b[39m start\n",
      "File \u001b[0;32m/opt/anaconda3/envs/mie377/lib/python3.10/site-packages/cvxpy/reductions/chain.py:76\u001b[0m, in \u001b[0;36mChain.apply\u001b[0;34m(self, problem, verbose)\u001b[0m\n\u001b[1;32m     74\u001b[0m     \u001b[38;5;28;01mif\u001b[39;00m verbose:\n\u001b[1;32m     75\u001b[0m         s\u001b[38;5;241m.\u001b[39mLOGGER\u001b[38;5;241m.\u001b[39minfo(\u001b[38;5;124m'\u001b[39m\u001b[38;5;124mApplying reduction \u001b[39m\u001b[38;5;132;01m%s\u001b[39;00m\u001b[38;5;124m'\u001b[39m, \u001b[38;5;28mtype\u001b[39m(r)\u001b[38;5;241m.\u001b[39m\u001b[38;5;18m__name__\u001b[39m)\n\u001b[0;32m---> 76\u001b[0m     problem, inv \u001b[38;5;241m=\u001b[39m \u001b[43mr\u001b[49m\u001b[38;5;241;43m.\u001b[39;49m\u001b[43mapply\u001b[49m\u001b[43m(\u001b[49m\u001b[43mproblem\u001b[49m\u001b[43m)\u001b[49m\n\u001b[1;32m     77\u001b[0m     inverse_data\u001b[38;5;241m.\u001b[39mappend(inv)\n\u001b[1;32m     78\u001b[0m \u001b[38;5;28;01mreturn\u001b[39;00m problem, inverse_data\n",
      "File \u001b[0;32m/opt/anaconda3/envs/mie377/lib/python3.10/site-packages/cvxpy/reductions/solvers/conic_solvers/conic_solver.py:354\u001b[0m, in \u001b[0;36mConicSolver.apply\u001b[0;34m(self, problem)\u001b[0m\n\u001b[1;32m    343\u001b[0m \u001b[38;5;250m\u001b[39m\u001b[38;5;124;03m\"\"\"Returns a new problem and data for inverting the new solution.\u001b[39;00m\n\u001b[1;32m    344\u001b[0m \n\u001b[1;32m    345\u001b[0m \u001b[38;5;124;03mReturns\u001b[39;00m\n\u001b[0;32m   (...)\u001b[0m\n\u001b[1;32m    348\u001b[0m \u001b[38;5;124;03m    (dict of arguments needed for the solver, inverse data)\u001b[39;00m\n\u001b[1;32m    349\u001b[0m \u001b[38;5;124;03m\"\"\"\u001b[39;00m\n\u001b[1;32m    351\u001b[0m \u001b[38;5;66;03m# This is a reference implementation following SCS conventions\u001b[39;00m\n\u001b[1;32m    352\u001b[0m \u001b[38;5;66;03m# Implementations for other solvers may amend or override the implementation entirely\u001b[39;00m\n\u001b[0;32m--> 354\u001b[0m problem, data, inv_data \u001b[38;5;241m=\u001b[39m \u001b[38;5;28;43mself\u001b[39;49m\u001b[38;5;241;43m.\u001b[39;49m\u001b[43m_prepare_data_and_inv_data\u001b[49m\u001b[43m(\u001b[49m\u001b[43mproblem\u001b[49m\u001b[43m)\u001b[49m\n\u001b[1;32m    356\u001b[0m \u001b[38;5;66;03m# Apply parameter values.\u001b[39;00m\n\u001b[1;32m    357\u001b[0m \u001b[38;5;66;03m# Obtain A, b such that Ax + s = b, s \\in cones.\u001b[39;00m\n\u001b[1;32m    358\u001b[0m \u001b[38;5;28;01mif\u001b[39;00m problem\u001b[38;5;241m.\u001b[39mP \u001b[38;5;129;01mis\u001b[39;00m \u001b[38;5;28;01mNone\u001b[39;00m:\n",
      "File \u001b[0;32m/opt/anaconda3/envs/mie377/lib/python3.10/site-packages/cvxpy/reductions/solvers/conic_solvers/conic_solver.py:331\u001b[0m, in \u001b[0;36mConicSolver._prepare_data_and_inv_data\u001b[0;34m(self, problem)\u001b[0m\n\u001b[1;32m    320\u001b[0m \u001b[38;5;66;03m# Format constraints\u001b[39;00m\n\u001b[1;32m    321\u001b[0m \u001b[38;5;66;03m#\u001b[39;00m\n\u001b[1;32m    322\u001b[0m \u001b[38;5;66;03m# By default cvxpy follows the SCS convention, which requires\u001b[39;00m\n\u001b[0;32m   (...)\u001b[0m\n\u001b[1;32m    328\u001b[0m \u001b[38;5;66;03m# 5. exponential\u001b[39;00m\n\u001b[1;32m    329\u001b[0m \u001b[38;5;66;03m# 6. three-dimensional power cones\u001b[39;00m\n\u001b[1;32m    330\u001b[0m \u001b[38;5;28;01mif\u001b[39;00m \u001b[38;5;129;01mnot\u001b[39;00m problem\u001b[38;5;241m.\u001b[39mformatted:\n\u001b[0;32m--> 331\u001b[0m     problem \u001b[38;5;241m=\u001b[39m \u001b[38;5;28;43mself\u001b[39;49m\u001b[38;5;241;43m.\u001b[39;49m\u001b[43mformat_constraints\u001b[49m\u001b[43m(\u001b[49m\u001b[43mproblem\u001b[49m\u001b[43m,\u001b[49m\u001b[43m \u001b[49m\u001b[38;5;28;43mself\u001b[39;49m\u001b[38;5;241;43m.\u001b[39;49m\u001b[43mEXP_CONE_ORDER\u001b[49m\u001b[43m)\u001b[49m\n\u001b[1;32m    332\u001b[0m data[s\u001b[38;5;241m.\u001b[39mPARAM_PROB] \u001b[38;5;241m=\u001b[39m problem\n\u001b[1;32m    333\u001b[0m data[\u001b[38;5;28mself\u001b[39m\u001b[38;5;241m.\u001b[39mDIMS] \u001b[38;5;241m=\u001b[39m problem\u001b[38;5;241m.\u001b[39mcone_dims\n",
      "File \u001b[0;32m/opt/anaconda3/envs/mie377/lib/python3.10/site-packages/cvxpy/reductions/solvers/conic_solvers/conic_solver.py:268\u001b[0m, in \u001b[0;36mConicSolver.format_constraints\u001b[0;34m(self, problem, exp_cone_order)\u001b[0m\n\u001b[1;32m    264\u001b[0m unspecified, _ \u001b[38;5;241m=\u001b[39m np\u001b[38;5;241m.\u001b[39mdivmod(problem\u001b[38;5;241m.\u001b[39mA\u001b[38;5;241m.\u001b[39mshape[\u001b[38;5;241m0\u001b[39m] \u001b[38;5;241m*\u001b[39m problem\u001b[38;5;241m.\u001b[39mA\u001b[38;5;241m.\u001b[39mshape[\u001b[38;5;241m1\u001b[39m],\n\u001b[1;32m    265\u001b[0m                             restruct_mat\u001b[38;5;241m.\u001b[39mshape[\u001b[38;5;241m1\u001b[39m], dtype\u001b[38;5;241m=\u001b[39mnp\u001b[38;5;241m.\u001b[39mint64)\n\u001b[1;32m    266\u001b[0m reshaped_A \u001b[38;5;241m=\u001b[39m problem\u001b[38;5;241m.\u001b[39mA\u001b[38;5;241m.\u001b[39mreshape(restruct_mat\u001b[38;5;241m.\u001b[39mshape[\u001b[38;5;241m1\u001b[39m],\n\u001b[1;32m    267\u001b[0m                                unspecified, order\u001b[38;5;241m=\u001b[39m\u001b[38;5;124m'\u001b[39m\u001b[38;5;124mF\u001b[39m\u001b[38;5;124m'\u001b[39m)\u001b[38;5;241m.\u001b[39mtocsr()\n\u001b[0;32m--> 268\u001b[0m restructured_A \u001b[38;5;241m=\u001b[39m \u001b[43mrestruct_mat\u001b[49m\u001b[43m(\u001b[49m\u001b[43mreshaped_A\u001b[49m\u001b[43m)\u001b[49m\u001b[38;5;241m.\u001b[39mtocoo()\n\u001b[1;32m    269\u001b[0m \u001b[38;5;66;03m# Because of a bug in scipy versions <  1.20, `reshape`\u001b[39;00m\n\u001b[1;32m    270\u001b[0m \u001b[38;5;66;03m# can overflow if indices are int32s.\u001b[39;00m\n\u001b[1;32m    271\u001b[0m restructured_A\u001b[38;5;241m.\u001b[39mrow \u001b[38;5;241m=\u001b[39m restructured_A\u001b[38;5;241m.\u001b[39mrow\u001b[38;5;241m.\u001b[39mastype(np\u001b[38;5;241m.\u001b[39mint64)\n",
      "File \u001b[0;32m/opt/anaconda3/envs/mie377/lib/python3.10/site-packages/cvxpy/reductions/solvers/conic_solvers/conic_solver.py:45\u001b[0m, in \u001b[0;36mLinearOperator.__call__\u001b[0;34m(self, X)\u001b[0m\n\u001b[1;32m     44\u001b[0m \u001b[38;5;28;01mdef\u001b[39;00m\u001b[38;5;250m \u001b[39m\u001b[38;5;21m__call__\u001b[39m(\u001b[38;5;28mself\u001b[39m, X):\n\u001b[0;32m---> 45\u001b[0m     \u001b[38;5;28;01mreturn\u001b[39;00m \u001b[38;5;28;43mself\u001b[39;49m\u001b[38;5;241;43m.\u001b[39;49m\u001b[43m_matmul\u001b[49m\u001b[43m(\u001b[49m\u001b[43mX\u001b[49m\u001b[43m)\u001b[49m\n",
      "File \u001b[0;32m/opt/anaconda3/envs/mie377/lib/python3.10/site-packages/cvxpy/reductions/solvers/conic_solvers/conic_solver.py:81\u001b[0m, in \u001b[0;36mas_block_diag_linear_operator.<locals>.matmul\u001b[0;34m(X)\u001b[0m\n\u001b[1;32m     79\u001b[0m     Xi \u001b[38;5;241m=\u001b[39m X[col_indices[i]:col_indices[i \u001b[38;5;241m+\u001b[39m \u001b[38;5;241m1\u001b[39m]]\n\u001b[1;32m     80\u001b[0m     outputs\u001b[38;5;241m.\u001b[39mappend(op(Xi))\n\u001b[0;32m---> 81\u001b[0m \u001b[38;5;28;01mreturn\u001b[39;00m \u001b[43msp\u001b[49m\u001b[38;5;241;43m.\u001b[39;49m\u001b[43mvstack\u001b[49m\u001b[43m(\u001b[49m\u001b[43moutputs\u001b[49m\u001b[43m)\u001b[49m\n",
      "File \u001b[0;32m/opt/anaconda3/envs/mie377/lib/python3.10/site-packages/scipy/sparse/_construct.py:804\u001b[0m, in \u001b[0;36mvstack\u001b[0;34m(blocks, format, dtype)\u001b[0m\n\u001b[1;32m    802\u001b[0m     \u001b[38;5;28;01mreturn\u001b[39;00m _block([[b] \u001b[38;5;28;01mfor\u001b[39;00m b \u001b[38;5;129;01min\u001b[39;00m blocks], \u001b[38;5;28mformat\u001b[39m, dtype)\n\u001b[1;32m    803\u001b[0m \u001b[38;5;28;01melse\u001b[39;00m:\n\u001b[0;32m--> 804\u001b[0m     \u001b[38;5;28;01mreturn\u001b[39;00m \u001b[43m_block\u001b[49m\u001b[43m(\u001b[49m\u001b[43m[\u001b[49m\u001b[43m[\u001b[49m\u001b[43mb\u001b[49m\u001b[43m]\u001b[49m\u001b[43m \u001b[49m\u001b[38;5;28;43;01mfor\u001b[39;49;00m\u001b[43m \u001b[49m\u001b[43mb\u001b[49m\u001b[43m \u001b[49m\u001b[38;5;129;43;01min\u001b[39;49;00m\u001b[43m \u001b[49m\u001b[43mblocks\u001b[49m\u001b[43m]\u001b[49m\u001b[43m,\u001b[49m\u001b[43m \u001b[49m\u001b[38;5;28;43mformat\u001b[39;49m\u001b[43m,\u001b[49m\u001b[43m \u001b[49m\u001b[43mdtype\u001b[49m\u001b[43m,\u001b[49m\u001b[43m \u001b[49m\u001b[43mreturn_spmatrix\u001b[49m\u001b[38;5;241;43m=\u001b[39;49m\u001b[38;5;28;43;01mTrue\u001b[39;49;00m\u001b[43m)\u001b[49m\n",
      "File \u001b[0;32m/opt/anaconda3/envs/mie377/lib/python3.10/site-packages/scipy/sparse/_construct.py:961\u001b[0m, in \u001b[0;36m_block\u001b[0;34m(blocks, format, dtype, return_spmatrix)\u001b[0m\n\u001b[1;32m    959\u001b[0m \u001b[38;5;28;01mfor\u001b[39;00m j \u001b[38;5;129;01min\u001b[39;00m \u001b[38;5;28mrange\u001b[39m(N):\n\u001b[1;32m    960\u001b[0m     \u001b[38;5;28;01mif\u001b[39;00m blocks[i,j] \u001b[38;5;129;01mis\u001b[39;00m \u001b[38;5;129;01mnot\u001b[39;00m \u001b[38;5;28;01mNone\u001b[39;00m:\n\u001b[0;32m--> 961\u001b[0m         A \u001b[38;5;241m=\u001b[39m \u001b[43mcoo_array\u001b[49m\u001b[43m(\u001b[49m\u001b[43mblocks\u001b[49m\u001b[43m[\u001b[49m\u001b[43mi\u001b[49m\u001b[43m,\u001b[49m\u001b[43mj\u001b[49m\u001b[43m]\u001b[49m\u001b[43m)\u001b[49m\n\u001b[1;32m    962\u001b[0m         blocks[i,j] \u001b[38;5;241m=\u001b[39m A\n\u001b[1;32m    963\u001b[0m         block_mask[i,j] \u001b[38;5;241m=\u001b[39m \u001b[38;5;28;01mTrue\u001b[39;00m\n",
      "File \u001b[0;32m/opt/anaconda3/envs/mie377/lib/python3.10/site-packages/scipy/sparse/_coo.py:72\u001b[0m, in \u001b[0;36m_coo_base.__init__\u001b[0;34m(self, arg1, shape, dtype, copy, maxprint)\u001b[0m\n\u001b[1;32m     70\u001b[0m     \u001b[38;5;28mself\u001b[39m\u001b[38;5;241m.\u001b[39mhas_canonical_format \u001b[38;5;241m=\u001b[39m arg1\u001b[38;5;241m.\u001b[39mhas_canonical_format\n\u001b[1;32m     71\u001b[0m \u001b[38;5;28;01melse\u001b[39;00m:\n\u001b[0;32m---> 72\u001b[0m     coo \u001b[38;5;241m=\u001b[39m \u001b[43marg1\u001b[49m\u001b[38;5;241;43m.\u001b[39;49m\u001b[43mtocoo\u001b[49m\u001b[43m(\u001b[49m\u001b[43m)\u001b[49m\n\u001b[1;32m     73\u001b[0m     \u001b[38;5;28mself\u001b[39m\u001b[38;5;241m.\u001b[39mcoords \u001b[38;5;241m=\u001b[39m \u001b[38;5;28mtuple\u001b[39m(coo\u001b[38;5;241m.\u001b[39mcoords)\n\u001b[1;32m     74\u001b[0m     \u001b[38;5;28mself\u001b[39m\u001b[38;5;241m.\u001b[39mdata \u001b[38;5;241m=\u001b[39m coo\u001b[38;5;241m.\u001b[39mdata\u001b[38;5;241m.\u001b[39mastype(getdtype(dtype, coo), copy\u001b[38;5;241m=\u001b[39m\u001b[38;5;28;01mFalse\u001b[39;00m)\n",
      "File \u001b[0;32m/opt/anaconda3/envs/mie377/lib/python3.10/site-packages/scipy/sparse/_compressed.py:1161\u001b[0m, in \u001b[0;36m_cs_matrix.tocoo\u001b[0;34m(self, copy)\u001b[0m\n\u001b[1;32m   1158\u001b[0m _sparsetools\u001b[38;5;241m.\u001b[39mexpandptr(major_dim, \u001b[38;5;28mself\u001b[39m\u001b[38;5;241m.\u001b[39mindptr, major_indices)\n\u001b[1;32m   1159\u001b[0m coords \u001b[38;5;241m=\u001b[39m \u001b[38;5;28mself\u001b[39m\u001b[38;5;241m.\u001b[39m_swap((major_indices, minor_indices))\n\u001b[0;32m-> 1161\u001b[0m \u001b[38;5;28;01mreturn\u001b[39;00m \u001b[38;5;28;43mself\u001b[39;49m\u001b[38;5;241;43m.\u001b[39;49m\u001b[43m_coo_container\u001b[49m\u001b[43m(\u001b[49m\n\u001b[1;32m   1162\u001b[0m \u001b[43m    \u001b[49m\u001b[43m(\u001b[49m\u001b[38;5;28;43mself\u001b[39;49m\u001b[38;5;241;43m.\u001b[39;49m\u001b[43mdata\u001b[49m\u001b[43m,\u001b[49m\u001b[43m \u001b[49m\u001b[43mcoords\u001b[49m\u001b[43m)\u001b[49m\u001b[43m,\u001b[49m\u001b[43m \u001b[49m\u001b[38;5;28;43mself\u001b[39;49m\u001b[38;5;241;43m.\u001b[39;49m\u001b[43mshape\u001b[49m\u001b[43m,\u001b[49m\u001b[43m \u001b[49m\u001b[43mcopy\u001b[49m\u001b[38;5;241;43m=\u001b[39;49m\u001b[43mcopy\u001b[49m\u001b[43m,\u001b[49m\u001b[43m \u001b[49m\u001b[43mdtype\u001b[49m\u001b[38;5;241;43m=\u001b[39;49m\u001b[38;5;28;43mself\u001b[39;49m\u001b[38;5;241;43m.\u001b[39;49m\u001b[43mdtype\u001b[49m\n\u001b[1;32m   1163\u001b[0m \u001b[43m\u001b[49m\u001b[43m)\u001b[49m\n",
      "File \u001b[0;32m/opt/anaconda3/envs/mie377/lib/python3.10/site-packages/scipy/sparse/_coo.py:101\u001b[0m, in \u001b[0;36m_coo_base.__init__\u001b[0;34m(self, arg1, shape, dtype, copy, maxprint)\u001b[0m\n\u001b[1;32m     98\u001b[0m \u001b[38;5;28;01mif\u001b[39;00m \u001b[38;5;28mlen\u001b[39m(\u001b[38;5;28mself\u001b[39m\u001b[38;5;241m.\u001b[39m_shape) \u001b[38;5;241m>\u001b[39m \u001b[38;5;241m2\u001b[39m:\n\u001b[1;32m     99\u001b[0m     \u001b[38;5;28mself\u001b[39m\u001b[38;5;241m.\u001b[39mcoords \u001b[38;5;241m=\u001b[39m \u001b[38;5;28mtuple\u001b[39m(idx\u001b[38;5;241m.\u001b[39mastype(np\u001b[38;5;241m.\u001b[39mint64, copy\u001b[38;5;241m=\u001b[39m\u001b[38;5;28;01mFalse\u001b[39;00m) \u001b[38;5;28;01mfor\u001b[39;00m idx \u001b[38;5;129;01min\u001b[39;00m \u001b[38;5;28mself\u001b[39m\u001b[38;5;241m.\u001b[39mcoords)\n\u001b[0;32m--> 101\u001b[0m \u001b[38;5;28;43mself\u001b[39;49m\u001b[38;5;241;43m.\u001b[39;49m\u001b[43m_check\u001b[49m\u001b[43m(\u001b[49m\u001b[43m)\u001b[49m\n",
      "File \u001b[0;32m/opt/anaconda3/envs/mie377/lib/python3.10/site-packages/scipy/sparse/_coo.py:221\u001b[0m, in \u001b[0;36m_coo_base._check\u001b[0;34m(self)\u001b[0m\n\u001b[1;32m    219\u001b[0m \u001b[38;5;28;01mif\u001b[39;00m \u001b[38;5;28mself\u001b[39m\u001b[38;5;241m.\u001b[39mnnz \u001b[38;5;241m>\u001b[39m \u001b[38;5;241m0\u001b[39m:\n\u001b[1;32m    220\u001b[0m     \u001b[38;5;28;01mfor\u001b[39;00m i, idx \u001b[38;5;129;01min\u001b[39;00m \u001b[38;5;28menumerate\u001b[39m(\u001b[38;5;28mself\u001b[39m\u001b[38;5;241m.\u001b[39mcoords):\n\u001b[0;32m--> 221\u001b[0m         \u001b[38;5;28;01mif\u001b[39;00m \u001b[43midx\u001b[49m\u001b[38;5;241;43m.\u001b[39;49m\u001b[43mmax\u001b[49m\u001b[43m(\u001b[49m\u001b[43m)\u001b[49m \u001b[38;5;241m>\u001b[39m\u001b[38;5;241m=\u001b[39m \u001b[38;5;28mself\u001b[39m\u001b[38;5;241m.\u001b[39mshape[i]:\n\u001b[1;32m    222\u001b[0m             \u001b[38;5;28;01mraise\u001b[39;00m \u001b[38;5;167;01mValueError\u001b[39;00m(\u001b[38;5;124mf\u001b[39m\u001b[38;5;124m'\u001b[39m\u001b[38;5;124maxis \u001b[39m\u001b[38;5;132;01m{\u001b[39;00mi\u001b[38;5;132;01m}\u001b[39;00m\u001b[38;5;124m index \u001b[39m\u001b[38;5;132;01m{\u001b[39;00midx\u001b[38;5;241m.\u001b[39mmax()\u001b[38;5;132;01m}\u001b[39;00m\u001b[38;5;124m exceeds \u001b[39m\u001b[38;5;124m'\u001b[39m\n\u001b[1;32m    223\u001b[0m                              \u001b[38;5;124mf\u001b[39m\u001b[38;5;124m'\u001b[39m\u001b[38;5;124mmatrix dimension \u001b[39m\u001b[38;5;132;01m{\u001b[39;00m\u001b[38;5;28mself\u001b[39m\u001b[38;5;241m.\u001b[39mshape[i]\u001b[38;5;132;01m}\u001b[39;00m\u001b[38;5;124m'\u001b[39m)\n\u001b[1;32m    224\u001b[0m         \u001b[38;5;28;01mif\u001b[39;00m idx\u001b[38;5;241m.\u001b[39mmin() \u001b[38;5;241m<\u001b[39m \u001b[38;5;241m0\u001b[39m:\n",
      "File \u001b[0;32m/opt/anaconda3/envs/mie377/lib/python3.10/site-packages/numpy/_core/_methods.py:42\u001b[0m, in \u001b[0;36m_amax\u001b[0;34m(a, axis, out, keepdims, initial, where)\u001b[0m\n\u001b[1;32m     36\u001b[0m     _complex_to_float\u001b[38;5;241m.\u001b[39mupdate({\n\u001b[1;32m     37\u001b[0m         nt\u001b[38;5;241m.\u001b[39mdtype(nt\u001b[38;5;241m.\u001b[39mclongdouble) : nt\u001b[38;5;241m.\u001b[39mdtype(nt\u001b[38;5;241m.\u001b[39mlongdouble),\n\u001b[1;32m     38\u001b[0m     })\n\u001b[1;32m     40\u001b[0m \u001b[38;5;66;03m# avoid keyword arguments to speed up parsing, saves about 15%-20% for very\u001b[39;00m\n\u001b[1;32m     41\u001b[0m \u001b[38;5;66;03m# small reductions\u001b[39;00m\n\u001b[0;32m---> 42\u001b[0m \u001b[38;5;28;01mdef\u001b[39;00m\u001b[38;5;250m \u001b[39m\u001b[38;5;21m_amax\u001b[39m(a, axis\u001b[38;5;241m=\u001b[39m\u001b[38;5;28;01mNone\u001b[39;00m, out\u001b[38;5;241m=\u001b[39m\u001b[38;5;28;01mNone\u001b[39;00m, keepdims\u001b[38;5;241m=\u001b[39m\u001b[38;5;28;01mFalse\u001b[39;00m,\n\u001b[1;32m     43\u001b[0m           initial\u001b[38;5;241m=\u001b[39m_NoValue, where\u001b[38;5;241m=\u001b[39m\u001b[38;5;28;01mTrue\u001b[39;00m):\n\u001b[1;32m     44\u001b[0m     \u001b[38;5;28;01mreturn\u001b[39;00m umr_maximum(a, axis, \u001b[38;5;28;01mNone\u001b[39;00m, out, keepdims, initial, where)\n\u001b[1;32m     46\u001b[0m \u001b[38;5;28;01mdef\u001b[39;00m\u001b[38;5;250m \u001b[39m\u001b[38;5;21m_amin\u001b[39m(a, axis\u001b[38;5;241m=\u001b[39m\u001b[38;5;28;01mNone\u001b[39;00m, out\u001b[38;5;241m=\u001b[39m\u001b[38;5;28;01mNone\u001b[39;00m, keepdims\u001b[38;5;241m=\u001b[39m\u001b[38;5;28;01mFalse\u001b[39;00m,\n\u001b[1;32m     47\u001b[0m           initial\u001b[38;5;241m=\u001b[39m_NoValue, where\u001b[38;5;241m=\u001b[39m\u001b[38;5;28;01mTrue\u001b[39;00m):\n",
      "\u001b[0;31mKeyboardInterrupt\u001b[0m: "
     ]
    }
   ],
   "source": [
    "for model in range(3):\n",
    "    best_ratio = -np.inf\n",
    "    best_params = {}\n",
    "\n",
    "    # Model 0 (Risk Parity)\n",
    "    if model == 0:\n",
    "        lambda_RP = 0.75  # example value\n",
    "        lamda_S = \"N/A\"\n",
    "        z = \"N/A\"\n",
    "        for num_periods in [30,36]:\n",
    "            SRs = []\n",
    "            turnovers = []\n",
    "            for file in [[\"MIE377_AssetPrices_1.csv\", \"MIE377_FactorReturns_1.csv\"], \n",
    "                         [\"MIE377_AssetPrices_2.csv\", \"MIE377_FactorReturns_2.csv\"]]:\n",
    "                for cal in [3, 5, 8]:\n",
    "                    print(f\"\\nTesting model {model}, lambda_RP={lambda_RP}, lambda_S={lamda_S}, z={z}, num_periods={num_periods}, cal={cal}\")\n",
    "                    SR, turnover = run_strategy(num_periods=num_periods, lambda_RP=lambda_RP, lamda_S=None, z=None,\n",
    "                                                model=model, cal=cal, file_1=file[0], file_2=file[1])\n",
    "                    print(f\"--> SR = {SR:.4f}, Turnover = {turnover:.4f}\")\n",
    "                    SRs.append(SR)\n",
    "                    turnovers.append(turnover)\n",
    "\n",
    "            avg_SR = np.mean(SRs)\n",
    "            avg_turnover = np.mean(turnovers)\n",
    "            avg_ratio = avg_SR / avg_turnover\n",
    "\n",
    "            if avg_ratio > best_ratio:\n",
    "                best_ratio = avg_ratio\n",
    "                best_params = {\n",
    "                    'model': model,\n",
    "                    'lambda_RP': lambda_RP,\n",
    "                    'lambda_S': lamda_S,\n",
    "                    'z': z,\n",
    "                    'num_periods': num_periods,\n",
    "                    'SR': avg_SR,\n",
    "                    'turnover': avg_turnover\n",
    "                }\n",
    "\n",
    "    # Model 1 (Sharpe)\n",
    "    elif model == 1:\n",
    "        lambda_RP = \"N/A\"\n",
    "        z = \"N/A\"\n",
    "        for lamda_S in [8, 12, 16]:\n",
    "            for num_periods in [30, 36]:\n",
    "                SRs = []\n",
    "                turnovers = []\n",
    "                for file in [[\"MIE377_AssetPrices_1.csv\", \"MIE377_FactorReturns_1.csv\"],\n",
    "                             [\"MIE377_AssetPrices_2.csv\", \"MIE377_FactorReturns_2.csv\"]]:\n",
    "                    for cal in [3, 5, 8]:\n",
    "                        print(f\"\\nTesting model {model}, lambda_RP={lambda_RP}, lambda_S={lamda_S}, z={z}, num_periods={num_periods}, cal={cal}\")\n",
    "                        SR, turnover = run_strategy(num_periods=num_periods, lambda_RP=None, lamda_S=lamda_S, z=None,\n",
    "                                                    model=model, cal=cal, file_1=file[0], file_2=file[1])\n",
    "                        print(f\"--> SR = {SR:.4f}, Turnover = {turnover:.4f}\")\n",
    "                        SRs.append(SR)\n",
    "                        turnovers.append(turnover)\n",
    "\n",
    "                avg_SR = np.mean(SRs)\n",
    "                avg_turnover = np.mean(turnovers)\n",
    "                avg_ratio = avg_SR / avg_turnover\n",
    "\n",
    "                if avg_ratio > best_ratio:\n",
    "                    best_ratio = avg_ratio\n",
    "                    best_params = {\n",
    "                        'model': model,\n",
    "                        'lambda_RP': lambda_RP,\n",
    "                        'lambda_S': lamda_S,\n",
    "                        'z': z,\n",
    "                        'num_periods': num_periods,\n",
    "                        'SR': avg_SR,\n",
    "                        'turnover': avg_turnover\n",
    "                    }\n",
    "\n",
    "    # Model 2 (Mixed)\n",
    "    elif model == 2:\n",
    "        for lambda_RP in [0.25, 0.5, 0.75]:\n",
    "            for lamda_S in [8, 12, 16]:\n",
    "                for z in [0.25, 0.5, 0.75]:\n",
    "                    for num_periods in [30, 36]:\n",
    "                        SRs = []\n",
    "                        turnovers = []\n",
    "                        for file in [[\"MIE377_AssetPrices_1.csv\", \"MIE377_FactorReturns_1.csv\"],\n",
    "                                     [\"MIE377_AssetPrices_2.csv\", \"MIE377_FactorReturns_2.csv\"]]:\n",
    "                            for cal in [3]:\n",
    "                                print(f\"\\nTesting model {model}, lambda_RP={lambda_RP}, lambda_S={lamda_S}, z={z}, num_periods={num_periods}, cal={cal}\")\n",
    "                                SR, turnover = run_strategy(num_periods=num_periods, lambda_RP=lambda_RP,\n",
    "                                                            lamda_S=lamda_S, z=z, model=model, cal=cal,\n",
    "                                                            file_1=file[0], file_2=file[1])\n",
    "                                print(f\"--> SR = {SR:.4f}, Turnover = {turnover:.4f}\")\n",
    "                                SRs.append(SR)\n",
    "                                turnovers.append(turnover)\n",
    "\n",
    "                        avg_SR = np.mean(SRs)\n",
    "                        avg_turnover = np.mean(turnovers)\n",
    "                        avg_ratio = avg_SR / avg_turnover\n",
    "\n",
    "                        if avg_ratio > best_ratio:\n",
    "                            best_ratio = avg_ratio\n",
    "                            best_params = {\n",
    "                                'model': model,\n",
    "                                'lambda_RP': lambda_RP,\n",
    "                                'lambda_S': lamda_S,\n",
    "                                'z': z,\n",
    "                                'num_periods': num_periods,\n",
    "                                'SR': avg_SR,\n",
    "                                'turnover': avg_turnover\n",
    "                            }\n"
   ]
  },
  {
   "cell_type": "code",
   "execution_count": null,
   "metadata": {},
   "outputs": [
    {
     "name": "stdout",
     "output_type": "stream",
     "text": [
      "\n",
      "Best Results Summary:\n",
      "   Model lambda_RP lambda_S     z  num_periods        SR  Turnover\n",
      "0      0      0.75      N/A   N/A           30  0.210506  0.109856\n",
      "1      1       N/A     0.75   N/A           30  0.216605  0.268931\n",
      "2      2      0.75        8  0.25           30  0.203805  0.142854\n"
     ]
    }
   ],
   "source": [
    "# Prepare data for a nice table\n",
    "table_data = []\n",
    "for model, result in best_results.items():\n",
    "    table_data.append({\n",
    "        'Model': model,\n",
    "        'lambda_RP': result.get('lambda_RP', 'N/A'),\n",
    "        'lambda_S': result.get('lambda_S', 'N/A'),\n",
    "        'z': result.get('z', 'N/A'),\n",
    "        'num_periods': result['num_periods'],\n",
    "        'SR': result['SR'],\n",
    "        'Turnover': result['turnover']\n",
    "    })\n",
    "\n",
    "# Convert to DataFrame for better readability\n",
    "df_results = pd.DataFrame(table_data)\n",
    "\n",
    "# Display the results in a table format\n",
    "print(\"\\nBest Results Summary:\")\n",
    "print(df_results)\n"
   ]
  }
 ],
 "metadata": {
  "kernelspec": {
   "display_name": "mie377",
   "language": "python",
   "name": "python3"
  },
  "language_info": {
   "codemirror_mode": {
    "name": "ipython",
    "version": 3
   },
   "file_extension": ".py",
   "mimetype": "text/x-python",
   "name": "python",
   "nbconvert_exporter": "python",
   "pygments_lexer": "ipython3",
   "version": "3.10.16"
  }
 },
 "nbformat": 4,
 "nbformat_minor": 0
}
