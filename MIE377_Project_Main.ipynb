{
 "cells": [
  {
   "cell_type": "markdown",
   "metadata": {
    "collapsed": false
   },
   "source": [
    "\n",
    "# MMF1921/MIE377 - Backtesting Template\n",
    "\n",
    "The purpose of this program is to provide a template with which to develop Project 2. The project requires you to test different models  (and/or different model combinations) to create an asset management algorithm.\n",
    "\n",
    "This template will be used by the instructor and TA to assess your trading algorithm using different datasets.\n",
    "\n",
    "# PLEASE DO NOT MODIFY THIS TEMPLATE (for Project submission purposes)\n",
    "\n",
    "# 1. Read input files"
   ]
  },
  {
   "cell_type": "code",
   "execution_count": 1,
   "metadata": {
    "ExecuteTime": {
     "end_time": "2024-03-20T20:29:36.438601400Z",
     "start_time": "2024-03-20T20:29:36.377918500Z"
    },
    "collapsed": false
   },
   "outputs": [],
   "source": [
    "import time\n",
    "import math\n",
    "from scipy.stats import gmean\n",
    "import matplotlib.pyplot as plt\n",
    "from services.project_function import *\n",
    "import pandas as pd\n",
    "\n",
    "adjClose = pd.read_csv(\"MIE377_AssetPrices_3.csv\", index_col=0)\n",
    "factorRet = pd.read_csv(\"MIE377_FactorReturns_3.csv\", index_col=0)"
   ]
  },
  {
   "cell_type": "code",
   "execution_count": null,
   "metadata": {
    "ExecuteTime": {
     "end_time": "2024-03-20T20:29:36.440587500Z",
     "start_time": "2024-03-20T20:29:36.396917700Z"
    },
    "collapsed": false
   },
   "outputs": [],
   "source": [
    "adjClose.index = pd.to_datetime(adjClose.index)\n",
    "factorRet.index = pd.to_datetime(factorRet.index)"
   ]
  },
  {
   "cell_type": "code",
   "execution_count": null,
   "metadata": {
    "ExecuteTime": {
     "end_time": "2024-03-20T20:29:36.470358Z",
     "start_time": "2024-03-20T20:29:36.411919Z"
    },
    "collapsed": false
   },
   "outputs": [],
   "source": [
    "# Initial budget to invest ($100,000)\n",
    "initialVal = 100000\n",
    "\n",
    "# Length of investment period (in months)\n",
    "investPeriod = 6\n",
    "\n",
    "# divide the factor returns by  100\n",
    "factorRet = factorRet/100\n",
    "\n",
    "#rf and factor returns\n",
    "riskFree = factorRet['RF']\n",
    "factorRet = factorRet.loc[:,factorRet.columns != 'RF'];\n"
   ]
  },
  {
   "cell_type": "code",
   "execution_count": null,
   "metadata": {
    "ExecuteTime": {
     "end_time": "2024-03-20T20:29:36.473235900Z",
     "start_time": "2024-03-20T20:29:36.426396Z"
    },
    "collapsed": false
   },
   "outputs": [],
   "source": [
    "#Identify the tickers and the dates\n",
    "tickers = adjClose.columns\n",
    "dates   = factorRet.index"
   ]
  },
  {
   "cell_type": "code",
   "execution_count": null,
   "metadata": {
    "ExecuteTime": {
     "end_time": "2024-03-20T20:29:36.474236800Z",
     "start_time": "2024-03-20T20:29:36.442586800Z"
    },
    "collapsed": false
   },
   "outputs": [],
   "source": [
    "# Calculate the stocks monthly excess returns\n",
    "# pct change and drop the first null observation\n",
    "returns = adjClose.pct_change(1).iloc[1:, :]\n",
    "returns = returns  - np.diag(riskFree.values) @ np.ones_like(returns.values)\n",
    "# Align the price table to the asset and factor returns tables by discarding the first observation.\n",
    "adjClose = adjClose.iloc[1:,:]"
   ]
  },
  {
   "cell_type": "code",
   "execution_count": null,
   "metadata": {
    "ExecuteTime": {
     "end_time": "2024-03-20T20:29:36.487236200Z",
     "start_time": "2024-03-20T20:29:36.458587500Z"
    },
    "collapsed": false
   },
   "outputs": [],
   "source": [
    "assert adjClose.index[0] == returns.index[0]\n",
    "assert adjClose.index[0] == factorRet.index[0]"
   ]
  },
  {
   "cell_type": "markdown",
   "metadata": {
    "collapsed": false
   },
   "source": [
    "# 2. Run your program\n",
    "\n",
    "This section will run your Project1_Function in a loop. The data will be loaded progressively as a growing window of historical observations.\n",
    "Rebalancing will take place after every loop"
   ]
  },
  {
   "cell_type": "code",
   "execution_count": null,
   "metadata": {
    "ExecuteTime": {
     "end_time": "2024-03-20T20:29:36.659439300Z",
     "start_time": "2024-03-20T20:29:36.478235300Z"
    },
    "collapsed": false
   },
   "outputs": [],
   "source": [
    "# Start of out-of-sample test period\n",
    "testStart = returns.index[0] + pd.offsets.DateOffset(years=5)\n",
    "\n",
    "#End of the first investment period\n",
    "testEnd = testStart + pd.offsets.DateOffset(months=investPeriod) -  pd.offsets.DateOffset(days = 1)\n",
    "\n",
    "# End of calibration period\n",
    "calEnd = testStart -  pd.offsets.DateOffset(days = 1)\n",
    "\n",
    "# Total number of investment periods\n",
    "NoPeriods = math.ceil((returns.index[-1].to_period('M') - testStart.to_period('M')).n / investPeriod)\n",
    "\n",
    "# Number of assets\n",
    "n  = len(tickers)\n",
    "\n",
    "# Preallocate space for the portfolio weights (x0 will be used to calculate\n",
    "# the turnover rate)\n",
    "x  = np.zeros([n, NoPeriods])\n",
    "x0 = np.zeros([n, NoPeriods])\n",
    "\n",
    "# Preallocate space for the portfolio per period value and turnover\n",
    "currentVal = np.zeros([NoPeriods, 1])\n",
    "turnover   = np.zeros([NoPeriods, 1])\n",
    "\n",
    "#Initiate counter for the number of observations per investment period\n",
    "toDay = 0\n",
    "\n",
    "# Measure runtime: start the clock\n",
    "start_time = time.time()\n",
    "\n",
    "# Empty list to measure the value of the portfolio over the period\n",
    "portfValue = []\n",
    "\n",
    "for t in range(NoPeriods):\n",
    "    # Subset the returns and factor returns corresponding to the current calibration period.\n",
    "    periodReturns = returns[returns.index <= calEnd]\n",
    "    periodFactRet = factorRet[factorRet.index <= calEnd]\n",
    "\n",
    "    current_price_idx = (calEnd - pd.offsets.DateOffset(months=1) <= adjClose.index)&(adjClose.index <= calEnd)\n",
    "    currentPrices = adjClose[current_price_idx]\n",
    "\n",
    "    # Subset the prices corresponding to the current out-of-sample test period.\n",
    "    periodPrices_idx = (testStart <= adjClose.index)&(adjClose.index <= testEnd)\n",
    "    periodPrices = adjClose[periodPrices_idx]\n",
    "\n",
    "    assert len(periodPrices) == investPeriod\n",
    "    assert len(currentPrices) == 1\n",
    "    # Set the initial value of the portfolio or update the portfolio value\n",
    "    if t == 0:\n",
    "        currentVal[0] = initialVal\n",
    "    else:\n",
    "        currentVal[t] = currentPrices @  NoShares.values.T\n",
    "        #Store the current asset weights (before optimization takes place)\n",
    "        x0[:,t] = currentPrices.values*NoShares.values/currentVal[t]\n",
    "\n",
    "    #----------------------------------------------------------------------\n",
    "    # Portfolio optimization\n",
    "    # You must write code your own algorithmic trading function\n",
    "    # The project function is in the services folder\n",
    "    # Take in the period returns and period factor returns and produce\n",
    "    # an allocation\n",
    "    #----------------------------------------------------------------------\n",
    "    x[:,t] = project_function(periodReturns, periodFactRet)\n",
    "\n",
    "    #Calculate the turnover rate\n",
    "    if t > 0:\n",
    "        turnover[t] = np.sum( np.abs( x[:,t] - x0[:,t] ) )\n",
    "\n",
    "    # Number of shares your portfolio holds per stock\n",
    "    NoShares = x[:,t]*currentVal[t]/currentPrices\n",
    "\n",
    "    # Update counter for the number of observations per investment period\n",
    "    fromDay = toDay\n",
    "    toDay   = toDay + len(periodPrices)\n",
    "\n",
    "    # Weekly portfolio value during the out-of-sample window\n",
    "    portfValue.append(periodPrices@ NoShares.values.T)\n",
    "\n",
    "    # Update your calibration and out-of-sample test periods\n",
    "    testStart = testStart + pd.offsets.DateOffset(months=investPeriod)\n",
    "    testEnd   = testStart + pd.offsets.DateOffset(months=investPeriod) - pd.offsets.DateOffset(days=1)\n",
    "    calEnd    = testStart - pd.offsets.DateOffset(days=1)\n",
    "\n",
    "portfValue = pd.concat(portfValue, axis = 0)\n",
    "end_time = time.time()"
   ]
  },
  {
   "cell_type": "markdown",
   "metadata": {
    "collapsed": false
   },
   "source": [
    "# 3. Results"
   ]
  },
  {
   "cell_type": "code",
   "execution_count": null,
   "metadata": {
    "ExecuteTime": {
     "end_time": "2024-03-20T20:29:36.673061Z",
     "start_time": "2024-03-20T20:29:36.658439800Z"
    },
    "collapsed": false
   },
   "outputs": [],
   "source": [
    "#--------------------------------------------------------------------------\n",
    "# 3.1 Calculate the portfolio average return, standard deviation, Sharpe ratio and average turnover.\n",
    "#-----------------------------------------------------------------------\n",
    "# Calculate the observed portfolio returns\n",
    "portfRets = portfValue.pct_change(1).iloc[1:,:]\n",
    "\n",
    "# Calculate the portfolio excess returns\n",
    "portfExRets = portfRets.subtract(riskFree[(riskFree.index >= portfRets.index[0])&(riskFree.index <= portfRets.index[-1])], axis = 0)\n",
    "\n",
    "# Calculate the portfolio Sharpe ratio\n",
    "SR = ((portfExRets + 1).apply(gmean, axis=0) - 1)/portfExRets.std()\n",
    "\n",
    "# Calculate the average turnover rate\n",
    "avgTurnover = np.mean(turnover[1:])\n",
    "\n",
    "#Print Sharpe ratio and Avg. turnover to the console\n",
    "print(\"Elasped time is \"+ str(end_time - start_time) + ' seconds')\n",
    "print('Sharpe ratio: ', str(SR[0]))\n",
    "print('Avg. turnover: ', str(avgTurnover))"
   ]
  },
  {
   "cell_type": "code",
   "execution_count": null,
   "metadata": {
    "ExecuteTime": {
     "end_time": "2024-03-20T20:29:37.254207300Z",
     "start_time": "2024-03-20T20:29:36.675062200Z"
    },
    "collapsed": false
   },
   "outputs": [],
   "source": [
    "#--------------------------------------------------------------------------\n",
    "# 3.2 Portfolio wealth evolution plot\n",
    "#--------------------------------------------------------------------------\n",
    "# Calculate the dates of the out-of-sample period\n",
    "\n",
    "fig = plt.figure(1)\n",
    "portfValue.plot(title = 'Portfolio wealth evolution',\n",
    "                ylabel = 'Total wealth',\n",
    "                figsize = (6, 3),\n",
    "                legend = False)\n",
    "plt.savefig(\"images/wealth.svg\")\n",
    "\n",
    "#--------------------------------------------------------------------------\n",
    "# 3.3 Portfolio weights plot\n",
    "#--------------------------------------------------------------------------\n",
    "# Portfolio weights\n",
    "\n",
    "fig2 = plt.figure(2);\n",
    "x[x < 0] = 0\n",
    "weights = pd.DataFrame(x, index = tickers)\n",
    "\n",
    "weights.columns = [col + 1 for col in weights.columns]\n",
    "weights.T.plot.area(title = 'Portfolio weights',\n",
    "                  ylabel = 'Weights', xlabel = 'Rebalance Period',\n",
    "                  figsize = (6, 3),\n",
    "                  legend = True, stacked = True)\n",
    "plt.legend(loc='center left', bbox_to_anchor=(1.0, 0.5))\n",
    "plt.savefig(\"images/weights.svg\");\n",
    "#\n",
    "# %%%%%%%%%%%%%%%%%%%%%%%%%%%%%%%%%%%%%%%%%%%%%%%%%%%%%%%%%%%%%%%%%%%%%%%%%%%\n",
    "# % Program End"
   ]
  },
  {
   "cell_type": "code",
   "execution_count": null,
   "metadata": {},
   "outputs": [],
   "source": [
    "def run_strategy(num_periods,lambda_RP, lamda_S, z, model):\n",
    "    testStart = returns.index[0] + pd.offsets.DateOffset(years=5)\n",
    "    testEnd = testStart + pd.offsets.DateOffset(months=investPeriod) - pd.offsets.DateOffset(days=1)\n",
    "    calEnd = testStart - pd.offsets.DateOffset(days=1)\n",
    "\n",
    "    NoPeriods = math.ceil((returns.index[-1].to_period('M') - testStart.to_period('M')).n / investPeriod)\n",
    "    n = len(tickers)\n",
    "\n",
    "    x = np.zeros([n, NoPeriods])\n",
    "    x0 = np.zeros([n, NoPeriods])\n",
    "    currentVal = np.zeros([NoPeriods, 1])\n",
    "    turnover = np.zeros([NoPeriods, 1])\n",
    "    toDay = 0\n",
    "    portfValue = []\n",
    "\n",
    "    for t in range(NoPeriods):\n",
    "        periodReturns = returns[returns.index <= calEnd]\n",
    "        periodFactRet = factorRet[factorRet.index <= calEnd]\n",
    "\n",
    "        current_price_idx = (calEnd - pd.offsets.DateOffset(months=1) <= adjClose.index)&(adjClose.index <= calEnd)\n",
    "        currentPrices = adjClose[current_price_idx]\n",
    "\n",
    "        periodPrices_idx = (testStart <= adjClose.index)&(adjClose.index <= testEnd)\n",
    "        periodPrices = adjClose[periodPrices_idx]\n",
    "\n",
    "        if len(periodPrices) != investPeriod or len(currentPrices) != 1:\n",
    "            break  # Skip this period if data is missing\n",
    "\n",
    "        if t == 0:\n",
    "            currentVal[0] = initialVal\n",
    "        else:\n",
    "            currentVal[t] = currentPrices @ NoShares.values.T\n",
    "            x0[:,t] = currentPrices.values * NoShares.values / currentVal[t]\n",
    "\n",
    "        x[:,t] = grid_search_function(periodReturns, periodFactRet, num_periods,lambda_RP, lamda_S, z, model)\n",
    "\n",
    "        if t > 0:\n",
    "            turnover[t] = np.sum(np.abs(x[:,t] - x0[:,t]))\n",
    "\n",
    "        NoShares = x[:,t] * currentVal[t] / currentPrices\n",
    "\n",
    "        fromDay = toDay\n",
    "        toDay = toDay + len(periodPrices)\n",
    "\n",
    "        portfValue.append(periodPrices @ NoShares.values.T)\n",
    "\n",
    "        testStart = testStart + pd.offsets.DateOffset(months=investPeriod)\n",
    "        testEnd = testStart + pd.offsets.DateOffset(months=investPeriod) - pd.offsets.DateOffset(days=1)\n",
    "        calEnd = testStart - pd.offsets.DateOffset(days=1)\n",
    "\n",
    "    if len(portfValue) == 0:\n",
    "        return -np.inf, np.nan  # Invalid run\n",
    "\n",
    "    portfValue = pd.concat(portfValue, axis=0)\n",
    "    portfRets = portfValue.pct_change(1).iloc[1:,:]\n",
    "    portfExRets = portfRets.subtract(riskFree[(riskFree.index >= portfRets.index[0]) & (riskFree.index <= portfRets.index[-1])], axis=0)\n",
    "\n",
    "    SR = ((portfExRets + 1).apply(gmean, axis=0) - 1) / portfExRets.std()\n",
    "    avgTurnover = np.mean(turnover[1:])\n",
    "\n",
    "    return SR[0], avgTurnover\n"
   ]
  },
  {
   "cell_type": "code",
   "execution_count": 1,
   "metadata": {
    "ExecuteTime": {
     "end_time": "2024-03-20T20:29:37.271233100Z",
     "start_time": "2024-03-20T20:29:37.253206200Z"
    },
    "collapsed": false
   },
   "outputs": [
    {
     "name": "stdout",
     "output_type": "stream",
     "text": [
      "\n",
      "Testing model 0, lambda_RP=0, num_periods=30\n"
     ]
    },
    {
     "ename": "NameError",
     "evalue": "name 'run_strategy' is not defined",
     "output_type": "error",
     "traceback": [
      "\u001b[0;31m---------------------------------------------------------------------------\u001b[0m",
      "\u001b[0;31mNameError\u001b[0m                                 Traceback (most recent call last)",
      "Cell \u001b[0;32mIn[1], line 18\u001b[0m\n\u001b[1;32m     16\u001b[0m \u001b[38;5;28;01mfor\u001b[39;00m num_periods \u001b[38;5;129;01min\u001b[39;00m [\u001b[38;5;241m30\u001b[39m, \u001b[38;5;241m36\u001b[39m, \u001b[38;5;241m40\u001b[39m]:\n\u001b[1;32m     17\u001b[0m     \u001b[38;5;28mprint\u001b[39m(\u001b[38;5;124mf\u001b[39m\u001b[38;5;124m\"\u001b[39m\u001b[38;5;130;01m\\n\u001b[39;00m\u001b[38;5;124mTesting model \u001b[39m\u001b[38;5;132;01m{\u001b[39;00mmodel\u001b[38;5;132;01m}\u001b[39;00m\u001b[38;5;124m, lambda_RP=\u001b[39m\u001b[38;5;132;01m{\u001b[39;00mlambda_RP\u001b[38;5;132;01m}\u001b[39;00m\u001b[38;5;124m, num_periods=\u001b[39m\u001b[38;5;132;01m{\u001b[39;00mnum_periods\u001b[38;5;132;01m}\u001b[39;00m\u001b[38;5;124m\"\u001b[39m)\n\u001b[0;32m---> 18\u001b[0m     SR, turnover \u001b[38;5;241m=\u001b[39m \u001b[43mrun_strategy\u001b[49m(num_periods\u001b[38;5;241m=\u001b[39mnum_periods, lambda_RP\u001b[38;5;241m=\u001b[39mlambda_RP, lamda_S\u001b[38;5;241m=\u001b[39m\u001b[38;5;28;01mNone\u001b[39;00m, z\u001b[38;5;241m=\u001b[39m\u001b[38;5;28;01mNone\u001b[39;00m, model\u001b[38;5;241m=\u001b[39mmodel)\n\u001b[1;32m     19\u001b[0m     \u001b[38;5;28mprint\u001b[39m(\u001b[38;5;124mf\u001b[39m\u001b[38;5;124m\"\u001b[39m\u001b[38;5;124m--> SR = \u001b[39m\u001b[38;5;132;01m{\u001b[39;00mSR\u001b[38;5;132;01m:\u001b[39;00m\u001b[38;5;124m.4f\u001b[39m\u001b[38;5;132;01m}\u001b[39;00m\u001b[38;5;124m, Turnover = \u001b[39m\u001b[38;5;132;01m{\u001b[39;00mturnover\u001b[38;5;132;01m:\u001b[39;00m\u001b[38;5;124m.4f\u001b[39m\u001b[38;5;132;01m}\u001b[39;00m\u001b[38;5;124m\"\u001b[39m)\n\u001b[1;32m     20\u001b[0m     \u001b[38;5;28;01mif\u001b[39;00m SR \u001b[38;5;241m>\u001b[39m best_SR:\n",
      "\u001b[0;31mNameError\u001b[0m: name 'run_strategy' is not defined"
     ]
    }
   ],
   "source": [
    "import pandas as pd\n",
    "import numpy as np\n",
    "import math\n",
    "from scipy.stats import gmean\n",
    "\n",
    "best_results = {}\n",
    "\n",
    "# Iterate over models (0, 1, 2)\n",
    "for model in range(3):\n",
    "    best_SR = -np.inf\n",
    "    best_params = {}\n",
    "\n",
    "    # Model 0 (Risk Parity): Loop through lambda values\n",
    "    if model == 0:\n",
    "        for lambda_RP in [0, 0.25, 0.5, 0.75, 1, 1.25, 1.5, 1.75, 2]:\n",
    "            for num_periods in [30, 36, 40]:\n",
    "                print(f\"\\nTesting model {model}, lambda_RP={lambda_RP}, num_periods={num_periods}\")\n",
    "                SR, turnover = run_strategy(num_periods=num_periods, lambda_RP=lambda_RP, lamda_S=None, z=None, model=model)\n",
    "                print(f\"--> SR = {SR:.4f}, Turnover = {turnover:.4f}\")\n",
    "                if SR > best_SR:\n",
    "                    best_SR = SR\n",
    "                    best_params = {\n",
    "                        'model': model,\n",
    "                        'lambda_RP': lambda_RP,\n",
    "                        'num_periods': num_periods,\n",
    "                        'SR': SR,\n",
    "                        'turnover': turnover\n",
    "                    }\n",
    "\n",
    "    # Model 1 (Sharpe): Loop through lambda values\n",
    "    elif model == 1:\n",
    "        for lamda_S in [0, 0.25, 0.5, 0.75, 1, 1.25, 1.5, 1.75, 2]:\n",
    "            for num_periods in [30, 36, 40]:\n",
    "                print(f\"\\nTesting model {model}, lambda_S={lamda_S}, num_periods={num_periods}\")\n",
    "                SR, turnover = run_strategy(num_periods=num_periods, lambda_RP=None, lamda_S=lamda_S, z=None, model=model)\n",
    "                print(f\"--> SR = {SR:.4f}, Turnover = {turnover:.4f}\")\n",
    "                if SR > best_SR:\n",
    "                    best_SR = SR\n",
    "                    best_params = {\n",
    "                        'model': model,\n",
    "                        'lambda_S': lamda_S,\n",
    "                        'num_periods': num_periods,\n",
    "                        'SR': SR,\n",
    "                        'turnover': turnover\n",
    "                    }\n",
    "\n",
    "    # Model 2 (Mix Method): Loop through lambda values and z\n",
    "    elif model == 2:\n",
    "        for lambda_RP in [0, 0.25, 0.5, 0.75, 1, 1.25, 1.5, 1.75, 2]:\n",
    "            for lamda_S in [10, 12.5, 15, 17.5, 20]:\n",
    "                for z in [0.25, 0.5, 0.75]:\n",
    "                    for num_periods in [30, 36, 40]:\n",
    "                        print(f\"\\nTesting model {model}, lambda_RP={lambda_RP}, lambda_S={lamda_S}, z={z}, num_periods={num_periods}\")\n",
    "                        SR, turnover = run_strategy(num_periods=num_periods, lambda_RP=lambda_RP, lamda_S=lamda_S, z=z, model=model)\n",
    "                        print(f\"--> SR = {SR:.4f}, Turnover = {turnover:.4f}\")\n",
    "                        if SR > best_SR:\n",
    "                            best_SR = SR\n",
    "                            best_params = {\n",
    "                                'model': model,\n",
    "                                'lambda_RP': lambda_RP,\n",
    "                                'lambda_S': lamda_S,\n",
    "                                'z': z,\n",
    "                                'num_periods': num_periods,\n",
    "                                'SR': SR,\n",
    "                                'turnover': turnover\n",
    "                            }\n",
    "\n",
    "    best_results[model] = best_params\n",
    "\n",
    "\n",
    "# Prepare data for a nice table\n",
    "table_data = []\n",
    "for model, result in best_results.items():\n",
    "    table_data.append({\n",
    "        'Model': model,\n",
    "        'lambda_RP': result.get('lambda_RP', 'N/A'),\n",
    "        'lambda_S': result.get('lambda_S', 'N/A'),\n",
    "        'z': result.get('z', 'N/A'),\n",
    "        'num_periods': result['num_periods'],\n",
    "        'SR': result['SR'],\n",
    "        'Turnover': result['turnover']\n",
    "    })\n",
    "\n",
    "# Convert to DataFrame for better readability\n",
    "df_results = pd.DataFrame(table_data)\n",
    "\n",
    "# Display the results in a table format\n",
    "print(\"\\nBest Results Summary:\")\n",
    "print(df_results)\n"
   ]
  }
 ],
 "metadata": {
  "kernelspec": {
   "display_name": "mie377",
   "language": "python",
   "name": "python3"
  },
  "language_info": {
   "codemirror_mode": {
    "name": "ipython",
    "version": 3
   },
   "file_extension": ".py",
   "mimetype": "text/x-python",
   "name": "python",
   "nbconvert_exporter": "python",
   "pygments_lexer": "ipython3",
   "version": "3.10.16"
  }
 },
 "nbformat": 4,
 "nbformat_minor": 0
}
